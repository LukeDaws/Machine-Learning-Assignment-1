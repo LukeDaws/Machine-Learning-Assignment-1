{
  "cells": [
    {
      "metadata": {},
      "cell_type": "markdown",
      "source": "(1) I hereby agree to follow any and all assignment rules and procedures as stated in Canvas for this course, MATH2319.\n\n(2) I solemnly swear that I will not discuss/ have not discussed my assignment solutions with anyone in any way and the solutions I am submitting are my own personal work.\n\nFull Name: Luke Daws"
    },
    {
      "metadata": {},
      "cell_type": "markdown",
      "source": "# MATH2319 - Machine Learning\n\n# Assignment 1\n\n## Luke Daws\n\n## S3322003\n\n***\n\n# Question 1\n\nOne of the most import aspect of any data analysis or machine learning task is data pre-processing. An important saying in the field is \"Garbage in, garbage out\". The first question of the assignment is to go through a dataset and clean it up ready to be processed.\n\n### The data set\n\nThe dataset for that is used for this assignment is the `Credit Approval` data taken from the UCI repository:\n\nhttps://archive.ics.uci.edu/ml/datasets/Credit+Approval\n\nFrom this repository we only require two of the supplied datasets:\n\n- `crx.names`: This file contains information about the dataset itself, such as the names of the features, what values are in the features and their type (i.e. continuous, categorical), The number of instances for the features (690) and how many missing values there are in each feature.\n- `crx.data`: This is the raw data. There are no headings supplied with this data set and it is separated by the `,` symbol. \n\n"
    },
    {
      "metadata": {},
      "cell_type": "markdown",
      "source": "### Importing packages\n\nWe will be using 3 packages for this assignment.\n\n- `Numpy`: This package is good for implementing array data structures performing calculations with the arrays.\n- `Pandas`: A very important package that allows for easy data frame construction and manipulation. It also contains other tools for data analysis.\n- `sklearn`: sklearn is used heavily in machine learning but for this assignment it is only going to be used for it's `preprocessing` package in question 1.\n"
    },
    {
      "metadata": {
        "trusted": true
      },
      "cell_type": "code",
      "source": "import warnings\nwarnings.filterwarnings('ignore')\n\nimport numpy as np\nimport pandas as pd\nfrom sklearn import preprocessing",
      "execution_count": 1,
      "outputs": []
    },
    {
      "metadata": {
        "trusted": true
      },
      "cell_type": "markdown",
      "source": "### Importing the dataset\n\nI will be importing the dataset from Azure. Now by looking at the data in the dataset and reading the `crx.names` file we know that the data is separated by the `,` symbol and also that the missing values in the dataset are replaced by the `?` symbol.\n\nIn most cases the missing values will just not be there or they will be replaced with something else like `?` or `9999`. We will go through and check that these are the only cases of missing values later but as we know what they are now, we will add the argument `na_values=[\"?\"]` to automatically turn them into `NaN`.\n\nIn some cases, you can be lucky and the feature names are already included in the dataset so when you import the data all the features will have the appropriate title. Unfortunately, this dataset doesn't so we need to make sure that the first row of data isn't considered a title. So, we will also use the argument `header=None`.\n"
    },
    {
      "metadata": {
        "trusted": true
      },
      "cell_type": "code",
      "source": "credit_data = pd.read_csv('Assignment1_Q1_crx.data', sep=',', header=None, na_values=[\"?\"])",
      "execution_count": 2,
      "outputs": []
    },
    {
      "metadata": {
        "trusted": true
      },
      "cell_type": "markdown",
      "source": "### Checking the data frame\n\nNow that the data has been imported we will check to make sure it has been imported correctly."
    },
    {
      "metadata": {
        "trusted": true
      },
      "cell_type": "code",
      "source": "credit_data.head()",
      "execution_count": 3,
      "outputs": [
        {
          "output_type": "execute_result",
          "execution_count": 3,
          "data": {
            "text/html": "<div>\n<style scoped>\n    .dataframe tbody tr th:only-of-type {\n        vertical-align: middle;\n    }\n\n    .dataframe tbody tr th {\n        vertical-align: top;\n    }\n\n    .dataframe thead th {\n        text-align: right;\n    }\n</style>\n<table border=\"1\" class=\"dataframe\">\n  <thead>\n    <tr style=\"text-align: right;\">\n      <th></th>\n      <th>0</th>\n      <th>1</th>\n      <th>2</th>\n      <th>3</th>\n      <th>4</th>\n      <th>5</th>\n      <th>6</th>\n      <th>7</th>\n      <th>8</th>\n      <th>9</th>\n      <th>10</th>\n      <th>11</th>\n      <th>12</th>\n      <th>13</th>\n      <th>14</th>\n      <th>15</th>\n    </tr>\n  </thead>\n  <tbody>\n    <tr>\n      <th>0</th>\n      <td>b</td>\n      <td>30.83</td>\n      <td>0.000</td>\n      <td>u</td>\n      <td>g</td>\n      <td>w</td>\n      <td>v</td>\n      <td>1.25</td>\n      <td>t</td>\n      <td>t</td>\n      <td>1</td>\n      <td>f</td>\n      <td>g</td>\n      <td>202.0</td>\n      <td>0</td>\n      <td>+</td>\n    </tr>\n    <tr>\n      <th>1</th>\n      <td>a</td>\n      <td>58.67</td>\n      <td>4.460</td>\n      <td>u</td>\n      <td>g</td>\n      <td>q</td>\n      <td>h</td>\n      <td>3.04</td>\n      <td>t</td>\n      <td>t</td>\n      <td>6</td>\n      <td>f</td>\n      <td>g</td>\n      <td>43.0</td>\n      <td>560</td>\n      <td>+</td>\n    </tr>\n    <tr>\n      <th>2</th>\n      <td>a</td>\n      <td>24.50</td>\n      <td>0.500</td>\n      <td>u</td>\n      <td>g</td>\n      <td>q</td>\n      <td>h</td>\n      <td>1.50</td>\n      <td>t</td>\n      <td>f</td>\n      <td>0</td>\n      <td>f</td>\n      <td>g</td>\n      <td>280.0</td>\n      <td>824</td>\n      <td>+</td>\n    </tr>\n    <tr>\n      <th>3</th>\n      <td>b</td>\n      <td>27.83</td>\n      <td>1.540</td>\n      <td>u</td>\n      <td>g</td>\n      <td>w</td>\n      <td>v</td>\n      <td>3.75</td>\n      <td>t</td>\n      <td>t</td>\n      <td>5</td>\n      <td>t</td>\n      <td>g</td>\n      <td>100.0</td>\n      <td>3</td>\n      <td>+</td>\n    </tr>\n    <tr>\n      <th>4</th>\n      <td>b</td>\n      <td>20.17</td>\n      <td>5.625</td>\n      <td>u</td>\n      <td>g</td>\n      <td>w</td>\n      <td>v</td>\n      <td>1.71</td>\n      <td>t</td>\n      <td>f</td>\n      <td>0</td>\n      <td>f</td>\n      <td>s</td>\n      <td>120.0</td>\n      <td>0</td>\n      <td>+</td>\n    </tr>\n  </tbody>\n</table>\n</div>",
            "text/plain": "  0      1      2  3  4  5  6     7  8  9   10 11 12     13   14 15\n0  b  30.83  0.000  u  g  w  v  1.25  t  t   1  f  g  202.0    0  +\n1  a  58.67  4.460  u  g  q  h  3.04  t  t   6  f  g   43.0  560  +\n2  a  24.50  0.500  u  g  q  h  1.50  t  f   0  f  g  280.0  824  +\n3  b  27.83  1.540  u  g  w  v  3.75  t  t   5  t  g  100.0    3  +\n4  b  20.17  5.625  u  g  w  v  1.71  t  f   0  f  s  120.0    0  +"
          },
          "metadata": {}
        }
      ]
    },
    {
      "metadata": {
        "trusted": true
      },
      "cell_type": "markdown",
      "source": "### Changing column names\n\nAs you can see the data has been imported correctly and the first row of data from `crx.data` has not been used for the titles of each feature, which is what we wanted, but they still need to be lablled. The `crx.name` file tells us that each feature is called `A1` all to `A16`. So, we will fix those titles now. "
    },
    {
      "metadata": {
        "trusted": true
      },
      "cell_type": "code",
      "source": "credit_data.columns = ['A1', 'A2','A3', 'A4','A5', 'A6','A7', 'A8','A9', 'A10','A11', 'A12','A13', 'A14','A15', 'A16',]",
      "execution_count": 4,
      "outputs": []
    },
    {
      "metadata": {
        "trusted": true
      },
      "cell_type": "code",
      "source": "credit_data.head()",
      "execution_count": 5,
      "outputs": [
        {
          "output_type": "execute_result",
          "execution_count": 5,
          "data": {
            "text/html": "<div>\n<style scoped>\n    .dataframe tbody tr th:only-of-type {\n        vertical-align: middle;\n    }\n\n    .dataframe tbody tr th {\n        vertical-align: top;\n    }\n\n    .dataframe thead th {\n        text-align: right;\n    }\n</style>\n<table border=\"1\" class=\"dataframe\">\n  <thead>\n    <tr style=\"text-align: right;\">\n      <th></th>\n      <th>A1</th>\n      <th>A2</th>\n      <th>A3</th>\n      <th>A4</th>\n      <th>A5</th>\n      <th>A6</th>\n      <th>A7</th>\n      <th>A8</th>\n      <th>A9</th>\n      <th>A10</th>\n      <th>A11</th>\n      <th>A12</th>\n      <th>A13</th>\n      <th>A14</th>\n      <th>A15</th>\n      <th>A16</th>\n    </tr>\n  </thead>\n  <tbody>\n    <tr>\n      <th>0</th>\n      <td>b</td>\n      <td>30.83</td>\n      <td>0.000</td>\n      <td>u</td>\n      <td>g</td>\n      <td>w</td>\n      <td>v</td>\n      <td>1.25</td>\n      <td>t</td>\n      <td>t</td>\n      <td>1</td>\n      <td>f</td>\n      <td>g</td>\n      <td>202.0</td>\n      <td>0</td>\n      <td>+</td>\n    </tr>\n    <tr>\n      <th>1</th>\n      <td>a</td>\n      <td>58.67</td>\n      <td>4.460</td>\n      <td>u</td>\n      <td>g</td>\n      <td>q</td>\n      <td>h</td>\n      <td>3.04</td>\n      <td>t</td>\n      <td>t</td>\n      <td>6</td>\n      <td>f</td>\n      <td>g</td>\n      <td>43.0</td>\n      <td>560</td>\n      <td>+</td>\n    </tr>\n    <tr>\n      <th>2</th>\n      <td>a</td>\n      <td>24.50</td>\n      <td>0.500</td>\n      <td>u</td>\n      <td>g</td>\n      <td>q</td>\n      <td>h</td>\n      <td>1.50</td>\n      <td>t</td>\n      <td>f</td>\n      <td>0</td>\n      <td>f</td>\n      <td>g</td>\n      <td>280.0</td>\n      <td>824</td>\n      <td>+</td>\n    </tr>\n    <tr>\n      <th>3</th>\n      <td>b</td>\n      <td>27.83</td>\n      <td>1.540</td>\n      <td>u</td>\n      <td>g</td>\n      <td>w</td>\n      <td>v</td>\n      <td>3.75</td>\n      <td>t</td>\n      <td>t</td>\n      <td>5</td>\n      <td>t</td>\n      <td>g</td>\n      <td>100.0</td>\n      <td>3</td>\n      <td>+</td>\n    </tr>\n    <tr>\n      <th>4</th>\n      <td>b</td>\n      <td>20.17</td>\n      <td>5.625</td>\n      <td>u</td>\n      <td>g</td>\n      <td>w</td>\n      <td>v</td>\n      <td>1.71</td>\n      <td>t</td>\n      <td>f</td>\n      <td>0</td>\n      <td>f</td>\n      <td>s</td>\n      <td>120.0</td>\n      <td>0</td>\n      <td>+</td>\n    </tr>\n  </tbody>\n</table>\n</div>",
            "text/plain": "  A1     A2     A3 A4 A5 A6 A7    A8 A9 A10  A11 A12 A13    A14  A15 A16\n0  b  30.83  0.000  u  g  w  v  1.25  t   t    1   f   g  202.0    0   +\n1  a  58.67  4.460  u  g  q  h  3.04  t   t    6   f   g   43.0  560   +\n2  a  24.50  0.500  u  g  q  h  1.50  t   f    0   f   g  280.0  824   +\n3  b  27.83  1.540  u  g  w  v  3.75  t   t    5   t   g  100.0    3   +\n4  b  20.17  5.625  u  g  w  v  1.71  t   f    0   f   s  120.0    0   +"
          },
          "metadata": {}
        }
      ]
    },
    {
      "metadata": {
        "trusted": true
      },
      "cell_type": "markdown",
      "source": "### Checking for features with only one value\n\nFeatures that only contain one value provided no insight into your data, so we need to remove any feature that contains only one value. `crx.name` tells us each value that is in each feature so we don't really need to run this code but on the off chance there is a feature with no unique values we will run it anyway.  "
    },
    {
      "metadata": {
        "trusted": true
      },
      "cell_type": "code",
      "source": "credit_data = credit_data.loc[:, credit_data.nunique() != 1]",
      "execution_count": 6,
      "outputs": []
    },
    {
      "metadata": {
        "trusted": true
      },
      "cell_type": "code",
      "source": "credit_data.head()",
      "execution_count": 7,
      "outputs": [
        {
          "output_type": "execute_result",
          "execution_count": 7,
          "data": {
            "text/html": "<div>\n<style scoped>\n    .dataframe tbody tr th:only-of-type {\n        vertical-align: middle;\n    }\n\n    .dataframe tbody tr th {\n        vertical-align: top;\n    }\n\n    .dataframe thead th {\n        text-align: right;\n    }\n</style>\n<table border=\"1\" class=\"dataframe\">\n  <thead>\n    <tr style=\"text-align: right;\">\n      <th></th>\n      <th>A1</th>\n      <th>A2</th>\n      <th>A3</th>\n      <th>A4</th>\n      <th>A5</th>\n      <th>A6</th>\n      <th>A7</th>\n      <th>A8</th>\n      <th>A9</th>\n      <th>A10</th>\n      <th>A11</th>\n      <th>A12</th>\n      <th>A13</th>\n      <th>A14</th>\n      <th>A15</th>\n      <th>A16</th>\n    </tr>\n  </thead>\n  <tbody>\n    <tr>\n      <th>0</th>\n      <td>b</td>\n      <td>30.83</td>\n      <td>0.000</td>\n      <td>u</td>\n      <td>g</td>\n      <td>w</td>\n      <td>v</td>\n      <td>1.25</td>\n      <td>t</td>\n      <td>t</td>\n      <td>1</td>\n      <td>f</td>\n      <td>g</td>\n      <td>202.0</td>\n      <td>0</td>\n      <td>+</td>\n    </tr>\n    <tr>\n      <th>1</th>\n      <td>a</td>\n      <td>58.67</td>\n      <td>4.460</td>\n      <td>u</td>\n      <td>g</td>\n      <td>q</td>\n      <td>h</td>\n      <td>3.04</td>\n      <td>t</td>\n      <td>t</td>\n      <td>6</td>\n      <td>f</td>\n      <td>g</td>\n      <td>43.0</td>\n      <td>560</td>\n      <td>+</td>\n    </tr>\n    <tr>\n      <th>2</th>\n      <td>a</td>\n      <td>24.50</td>\n      <td>0.500</td>\n      <td>u</td>\n      <td>g</td>\n      <td>q</td>\n      <td>h</td>\n      <td>1.50</td>\n      <td>t</td>\n      <td>f</td>\n      <td>0</td>\n      <td>f</td>\n      <td>g</td>\n      <td>280.0</td>\n      <td>824</td>\n      <td>+</td>\n    </tr>\n    <tr>\n      <th>3</th>\n      <td>b</td>\n      <td>27.83</td>\n      <td>1.540</td>\n      <td>u</td>\n      <td>g</td>\n      <td>w</td>\n      <td>v</td>\n      <td>3.75</td>\n      <td>t</td>\n      <td>t</td>\n      <td>5</td>\n      <td>t</td>\n      <td>g</td>\n      <td>100.0</td>\n      <td>3</td>\n      <td>+</td>\n    </tr>\n    <tr>\n      <th>4</th>\n      <td>b</td>\n      <td>20.17</td>\n      <td>5.625</td>\n      <td>u</td>\n      <td>g</td>\n      <td>w</td>\n      <td>v</td>\n      <td>1.71</td>\n      <td>t</td>\n      <td>f</td>\n      <td>0</td>\n      <td>f</td>\n      <td>s</td>\n      <td>120.0</td>\n      <td>0</td>\n      <td>+</td>\n    </tr>\n  </tbody>\n</table>\n</div>",
            "text/plain": "  A1     A2     A3 A4 A5 A6 A7    A8 A9 A10  A11 A12 A13    A14  A15 A16\n0  b  30.83  0.000  u  g  w  v  1.25  t   t    1   f   g  202.0    0   +\n1  a  58.67  4.460  u  g  q  h  3.04  t   t    6   f   g   43.0  560   +\n2  a  24.50  0.500  u  g  q  h  1.50  t   f    0   f   g  280.0  824   +\n3  b  27.83  1.540  u  g  w  v  3.75  t   t    5   t   g  100.0    3   +\n4  b  20.17  5.625  u  g  w  v  1.71  t   f    0   f   s  120.0    0   +"
          },
          "metadata": {}
        }
      ]
    },
    {
      "metadata": {},
      "cell_type": "markdown",
      "source": "As you can see there has been no change to the dataframe"
    },
    {
      "metadata": {
        "trusted": true
      },
      "cell_type": "markdown",
      "source": "## Data Cleaning\n\n### Checking data type\n\nWe need to make sure that each feature is the correct data type as this can tell us that there is an issue we need to fix during this pre-processing stage. for example, a numerical only feature could be considered a float64 or int64 datatype but if it is shown as an object datatype that would mean a string is amongst that data.\n"
    },
    {
      "metadata": {
        "trusted": true,
        "scrolled": true
      },
      "cell_type": "code",
      "source": "credit_data.dtypes",
      "execution_count": 8,
      "outputs": [
        {
          "output_type": "execute_result",
          "execution_count": 8,
          "data": {
            "text/plain": "A1      object\nA2     float64\nA3     float64\nA4      object\nA5      object\nA6      object\nA7      object\nA8     float64\nA9      object\nA10     object\nA11      int64\nA12     object\nA13     object\nA14    float64\nA15      int64\nA16     object\ndtype: object"
          },
          "metadata": {}
        }
      ]
    },
    {
      "metadata": {},
      "cell_type": "markdown",
      "source": "Comparing what we are shown above with what the `crx.name` file tells us then all these data types are correct."
    },
    {
      "metadata": {
        "trusted": true
      },
      "cell_type": "markdown",
      "source": "### Missing values (NAN, NULL) \n\nThe next step is too look for missing values (`NaN` or `Null`). As we know when importing the dataset we converted the `?` into `null` values, so we know there should be some."
    },
    {
      "metadata": {
        "trusted": true,
        "scrolled": true
      },
      "cell_type": "code",
      "source": "credit_data.isna().sum()",
      "execution_count": 9,
      "outputs": [
        {
          "output_type": "execute_result",
          "execution_count": 9,
          "data": {
            "text/plain": "A1     12\nA2     12\nA3      0\nA4      6\nA5      6\nA6      9\nA7      9\nA8      0\nA9      0\nA10     0\nA11     0\nA12     0\nA13     0\nA14    13\nA15     0\nA16     0\ndtype: int64"
          },
          "metadata": {}
        }
      ]
    },
    {
      "metadata": {
        "trusted": true
      },
      "cell_type": "markdown",
      "source": "As we can see there are a few missing values and cross referencing with the `crx.names` file, we can see that the count of how many missing values there are and where they are located correspond with each other. We will be replacing these values later on."
    },
    {
      "metadata": {},
      "cell_type": "markdown",
      "source": "Below we will do further investigation into the data set to find anything unusual about it that may need to be fixed before the analysts can begin."
    },
    {
      "metadata": {
        "trusted": true
      },
      "cell_type": "code",
      "source": "credit_data.describe(include = np.number).round(2)",
      "execution_count": 10,
      "outputs": [
        {
          "output_type": "execute_result",
          "execution_count": 10,
          "data": {
            "text/html": "<div>\n<style scoped>\n    .dataframe tbody tr th:only-of-type {\n        vertical-align: middle;\n    }\n\n    .dataframe tbody tr th {\n        vertical-align: top;\n    }\n\n    .dataframe thead th {\n        text-align: right;\n    }\n</style>\n<table border=\"1\" class=\"dataframe\">\n  <thead>\n    <tr style=\"text-align: right;\">\n      <th></th>\n      <th>A2</th>\n      <th>A3</th>\n      <th>A8</th>\n      <th>A11</th>\n      <th>A14</th>\n      <th>A15</th>\n    </tr>\n  </thead>\n  <tbody>\n    <tr>\n      <th>count</th>\n      <td>678.00</td>\n      <td>690.00</td>\n      <td>690.00</td>\n      <td>690.00</td>\n      <td>677.00</td>\n      <td>690.00</td>\n    </tr>\n    <tr>\n      <th>mean</th>\n      <td>31.57</td>\n      <td>4.76</td>\n      <td>2.22</td>\n      <td>2.40</td>\n      <td>184.01</td>\n      <td>1017.39</td>\n    </tr>\n    <tr>\n      <th>std</th>\n      <td>11.96</td>\n      <td>4.98</td>\n      <td>3.35</td>\n      <td>4.86</td>\n      <td>173.81</td>\n      <td>5210.10</td>\n    </tr>\n    <tr>\n      <th>min</th>\n      <td>13.75</td>\n      <td>0.00</td>\n      <td>0.00</td>\n      <td>0.00</td>\n      <td>0.00</td>\n      <td>0.00</td>\n    </tr>\n    <tr>\n      <th>25%</th>\n      <td>22.60</td>\n      <td>1.00</td>\n      <td>0.16</td>\n      <td>0.00</td>\n      <td>75.00</td>\n      <td>0.00</td>\n    </tr>\n    <tr>\n      <th>50%</th>\n      <td>28.46</td>\n      <td>2.75</td>\n      <td>1.00</td>\n      <td>0.00</td>\n      <td>160.00</td>\n      <td>5.00</td>\n    </tr>\n    <tr>\n      <th>75%</th>\n      <td>38.23</td>\n      <td>7.21</td>\n      <td>2.62</td>\n      <td>3.00</td>\n      <td>276.00</td>\n      <td>395.50</td>\n    </tr>\n    <tr>\n      <th>max</th>\n      <td>80.25</td>\n      <td>28.00</td>\n      <td>28.50</td>\n      <td>67.00</td>\n      <td>2000.00</td>\n      <td>100000.00</td>\n    </tr>\n  </tbody>\n</table>\n</div>",
            "text/plain": "           A2      A3      A8     A11      A14        A15\ncount  678.00  690.00  690.00  690.00   677.00     690.00\nmean    31.57    4.76    2.22    2.40   184.01    1017.39\nstd     11.96    4.98    3.35    4.86   173.81    5210.10\nmin     13.75    0.00    0.00    0.00     0.00       0.00\n25%     22.60    1.00    0.16    0.00    75.00       0.00\n50%     28.46    2.75    1.00    0.00   160.00       5.00\n75%     38.23    7.21    2.62    3.00   276.00     395.50\nmax     80.25   28.00   28.50   67.00  2000.00  100000.00"
          },
          "metadata": {}
        }
      ]
    },
    {
      "metadata": {
        "trusted": true
      },
      "cell_type": "code",
      "source": "credit_data.describe(include = np.object)",
      "execution_count": 11,
      "outputs": [
        {
          "output_type": "execute_result",
          "execution_count": 11,
          "data": {
            "text/html": "<div>\n<style scoped>\n    .dataframe tbody tr th:only-of-type {\n        vertical-align: middle;\n    }\n\n    .dataframe tbody tr th {\n        vertical-align: top;\n    }\n\n    .dataframe thead th {\n        text-align: right;\n    }\n</style>\n<table border=\"1\" class=\"dataframe\">\n  <thead>\n    <tr style=\"text-align: right;\">\n      <th></th>\n      <th>A1</th>\n      <th>A4</th>\n      <th>A5</th>\n      <th>A6</th>\n      <th>A7</th>\n      <th>A9</th>\n      <th>A10</th>\n      <th>A12</th>\n      <th>A13</th>\n      <th>A16</th>\n    </tr>\n  </thead>\n  <tbody>\n    <tr>\n      <th>count</th>\n      <td>678</td>\n      <td>684</td>\n      <td>684</td>\n      <td>681</td>\n      <td>681</td>\n      <td>690</td>\n      <td>690</td>\n      <td>690</td>\n      <td>690</td>\n      <td>690</td>\n    </tr>\n    <tr>\n      <th>unique</th>\n      <td>2</td>\n      <td>3</td>\n      <td>3</td>\n      <td>14</td>\n      <td>9</td>\n      <td>2</td>\n      <td>2</td>\n      <td>2</td>\n      <td>3</td>\n      <td>2</td>\n    </tr>\n    <tr>\n      <th>top</th>\n      <td>b</td>\n      <td>u</td>\n      <td>g</td>\n      <td>c</td>\n      <td>v</td>\n      <td>t</td>\n      <td>f</td>\n      <td>f</td>\n      <td>g</td>\n      <td>-</td>\n    </tr>\n    <tr>\n      <th>freq</th>\n      <td>468</td>\n      <td>519</td>\n      <td>519</td>\n      <td>137</td>\n      <td>399</td>\n      <td>361</td>\n      <td>395</td>\n      <td>374</td>\n      <td>625</td>\n      <td>383</td>\n    </tr>\n  </tbody>\n</table>\n</div>",
            "text/plain": "         A1   A4   A5   A6   A7   A9  A10  A12  A13  A16\ncount   678  684  684  681  681  690  690  690  690  690\nunique    2    3    3   14    9    2    2    2    3    2\ntop       b    u    g    c    v    t    f    f    g    -\nfreq    468  519  519  137  399  361  395  374  625  383"
          },
          "metadata": {}
        }
      ]
    },
    {
      "metadata": {},
      "cell_type": "markdown",
      "source": "Running this code provides a good overview of each feature. We can see in some cases that the count is lower which corresponds with the missing values that we checked for earlier. The main advantage of this description is looking for impossible or unusual values, especially the numerical values. For instance, if you have an age feature and notice that the max age is well above the normal age of a living person you can consider that value to be incorrect. Unfortunately, due to the data being anonymised we can’t 100% know what would be an unusual value or outlier for the supplied data.\n\nIf we did know the context for each feature, we could use boxplots to look for outliers or unusual values, as well as histograms and even selecting only unique values of each feature. I will provide an example of what you can do below but I will only do it for one feature as it is not necessary to run this on each feature for this dataset. \n"
    },
    {
      "metadata": {
        "trusted": true
      },
      "cell_type": "code",
      "source": "credit_data.hist(column=['A14'])\nA14 = credit_data['A14'].unique()\nsorted(A14)",
      "execution_count": 12,
      "outputs": [
        {
          "output_type": "execute_result",
          "execution_count": 12,
          "data": {
            "text/plain": "[0.0,\n 20.0,\n 21.0,\n 24.0,\n 29.0,\n 30.0,\n 40.0,\n 43.0,\n 49.0,\n 50.0,\n 52.0,\n 60.0,\n 70.0,\n 75.0,\n 80.0,\n 93.0,\n 94.0,\n 96.0,\n 100.0,\n 102.0,\n 112.0,\n 120.0,\n 128.0,\n 129.0,\n 140.0,\n 144.0,\n 145.0,\n 150.0,\n 152.0,\n 160.0,\n 164.0,\n 167.0,\n 168.0,\n 171.0,\n 176.0,\n 180.0,\n 181.0,\n 188.0,\n 195.0,\n 200.0,\n 202.0,\n 204.0,\n 212.0,\n 216.0,\n 239.0,\n 240.0,\n 250.0,\n 260.0,\n 268.0,\n 274.0,\n 280.0,\n 288.0,\n 300.0,\n 311.0,\n 320.0,\n 329.0,\n 350.0,\n 360.0,\n 368.0,\n 370.0,\n 375.0,\n 380.0,\n 381.0,\n 393.0,\n 395.0,\n 396.0,\n 399.0,\n 400.0,\n 408.0,\n 410.0,\n 420.0,\n 431.0,\n 434.0,\n 440.0,\n 443.0,\n 455.0,\n 491.0,\n 500.0,\n 510.0,\n 515.0,\n 520.0,\n 583.0,\n 711.0,\n nan,\n 17.0,\n 22.0,\n 28.0,\n 32.0,\n 45.0,\n 56.0,\n 62.0,\n 73.0,\n 76.0,\n 86.0,\n 88.0,\n 92.0,\n 99.0,\n 108.0,\n 110.0,\n 117.0,\n 121.0,\n 130.0,\n 132.0,\n 136.0,\n 141.0,\n 154.0,\n 156.0,\n 163.0,\n 170.0,\n 174.0,\n 178.0,\n 186.0,\n 208.0,\n 210.0,\n 211.0,\n 220.0,\n 221.0,\n 224.0,\n 225.0,\n 228.0,\n 230.0,\n 231.0,\n 232.0,\n 252.0,\n 253.0,\n 254.0,\n 256.0,\n 263.0,\n 272.0,\n 276.0,\n 290.0,\n 292.0,\n 303.0,\n 309.0,\n 312.0,\n 330.0,\n 333.0,\n 340.0,\n 348.0,\n 349.0,\n 352.0,\n 356.0,\n 369.0,\n 371.0,\n 372.0,\n 383.0,\n 411.0,\n 416.0,\n 422.0,\n 432.0,\n 450.0,\n 454.0,\n 460.0,\n 465.0,\n 470.0,\n 480.0,\n 487.0,\n 519.0,\n 523.0,\n 550.0,\n 560.0,\n 600.0,\n 640.0,\n 680.0,\n 720.0,\n 760.0,\n 840.0,\n 928.0,\n 980.0,\n 1160.0,\n 2000.0]"
          },
          "metadata": {}
        }
      ]
    },
    {
      "metadata": {
        "trusted": true
      },
      "cell_type": "markdown",
      "source": "Again without knowing what the context is for each figure we have to assume that the supplied values are within the normal range.\n\nOnce we had found unusual values or outliers, there are a few ways we could deal with them. We could simply turn them in to `Null` values so we can replace them with something later or we could even consider removing that row completely."
    },
    {
      "metadata": {
        "trusted": true
      },
      "cell_type": "markdown",
      "source": "The `crx.name` file has also supplied us with what the value should be within each categorical feature. So we will check to make sure there is a corresponding amount of unique values in the data set we imported."
    },
    {
      "metadata": {
        "trusted": true,
        "scrolled": true
      },
      "cell_type": "code",
      "source": "credit_data.nunique()",
      "execution_count": 13,
      "outputs": [
        {
          "output_type": "execute_result",
          "execution_count": 13,
          "data": {
            "text/plain": "A1       2\nA2     349\nA3     215\nA4       3\nA5       3\nA6      14\nA7       9\nA8     132\nA9       2\nA10      2\nA11     23\nA12      2\nA13      3\nA14    170\nA15    240\nA16      2\ndtype: int64"
          },
          "metadata": {}
        }
      ]
    },
    {
      "metadata": {
        "trusted": true
      },
      "cell_type": "markdown",
      "source": "We can see the for each categorical feature (`A1`,`A4`,`A5`,`A6`,`A7`,`A9`,`A10`,`A12`,`A13`,`A16`) there is the correct amount of unique values, except for `A4`. In this case there is less unique values which without knowing the context of the feature is fine, even with context it could just mean no one falls under that category. So for this case nothing major needs to be done. "
    },
    {
      "metadata": {
        "trusted": true
      },
      "cell_type": "markdown",
      "source": "## Replaceing missing values\n\nAs part of this assignent we are to replace the missing values with either the `mode`, for categorical features, or the `median` for the numerical features.\n\nStarting with the categorical features:"
    },
    {
      "metadata": {
        "trusted": true
      },
      "cell_type": "code",
      "source": "credit_data[['A1','A4','A5','A6','A7']].mode()",
      "execution_count": 14,
      "outputs": [
        {
          "output_type": "execute_result",
          "execution_count": 14,
          "data": {
            "text/html": "<div>\n<style scoped>\n    .dataframe tbody tr th:only-of-type {\n        vertical-align: middle;\n    }\n\n    .dataframe tbody tr th {\n        vertical-align: top;\n    }\n\n    .dataframe thead th {\n        text-align: right;\n    }\n</style>\n<table border=\"1\" class=\"dataframe\">\n  <thead>\n    <tr style=\"text-align: right;\">\n      <th></th>\n      <th>A1</th>\n      <th>A4</th>\n      <th>A5</th>\n      <th>A6</th>\n      <th>A7</th>\n    </tr>\n  </thead>\n  <tbody>\n    <tr>\n      <th>0</th>\n      <td>b</td>\n      <td>u</td>\n      <td>g</td>\n      <td>c</td>\n      <td>v</td>\n    </tr>\n  </tbody>\n</table>\n</div>",
            "text/plain": "  A1 A4 A5 A6 A7\n0  b  u  g  c  v"
          },
          "metadata": {}
        }
      ]
    },
    {
      "metadata": {},
      "cell_type": "markdown",
      "source": "This tell us what value is the mode for each feature we are looking at. "
    },
    {
      "metadata": {
        "trusted": true
      },
      "cell_type": "code",
      "source": "credit_data['A1'].value_counts()",
      "execution_count": 15,
      "outputs": [
        {
          "output_type": "execute_result",
          "execution_count": 15,
          "data": {
            "text/plain": "b    468\na    210\nName: A1, dtype: int64"
          },
          "metadata": {}
        }
      ]
    },
    {
      "metadata": {},
      "cell_type": "markdown",
      "source": "Here we can see the unique value count in the feature. we can cross reference this with the supplied `crx.name` file. This is also useful for checking if there have been different variations of spellings for certain values, misspellings or even abbreviations (e.g. for gender: Male, male, M, etc…)"
    },
    {
      "metadata": {
        "trusted": true
      },
      "cell_type": "code",
      "source": "credit_data['A1'].replace([None], credit_data['A1'].mode(), inplace=True)\ncredit_data['A1'].value_counts()",
      "execution_count": 16,
      "outputs": [
        {
          "output_type": "execute_result",
          "execution_count": 16,
          "data": {
            "text/plain": "b    480\na    210\nName: A1, dtype: int64"
          },
          "metadata": {}
        }
      ]
    },
    {
      "metadata": {},
      "cell_type": "markdown",
      "source": "Now we can see that there are more `b` values than before showing that the `Null` values have been replaced. also adding them up (480 + 210 = 690) shows that it is the correct amount of values in the feature."
    },
    {
      "metadata": {
        "trusted": true,
        "scrolled": false
      },
      "cell_type": "code",
      "source": "credit_data['A4'].value_counts()",
      "execution_count": 17,
      "outputs": [
        {
          "output_type": "execute_result",
          "execution_count": 17,
          "data": {
            "text/plain": "u    519\ny    163\nl      2\nName: A4, dtype: int64"
          },
          "metadata": {}
        }
      ]
    },
    {
      "metadata": {
        "trusted": true
      },
      "cell_type": "code",
      "source": "credit_data['A4'].replace([None], 'u', inplace=True)\ncredit_data['A4'].value_counts()",
      "execution_count": 18,
      "outputs": [
        {
          "output_type": "execute_result",
          "execution_count": 18,
          "data": {
            "text/plain": "u    525\ny    163\nl      2\nName: A4, dtype: int64"
          },
          "metadata": {}
        }
      ]
    },
    {
      "metadata": {
        "trusted": true
      },
      "cell_type": "code",
      "source": "credit_data['A5'].value_counts()",
      "execution_count": 19,
      "outputs": [
        {
          "output_type": "execute_result",
          "execution_count": 19,
          "data": {
            "text/plain": "g     519\np     163\ngg      2\nName: A5, dtype: int64"
          },
          "metadata": {}
        }
      ]
    },
    {
      "metadata": {
        "trusted": true,
        "scrolled": true
      },
      "cell_type": "code",
      "source": "credit_data['A5'].replace([None], 'g', inplace=True)\ncredit_data['A5'].value_counts()",
      "execution_count": 20,
      "outputs": [
        {
          "output_type": "execute_result",
          "execution_count": 20,
          "data": {
            "text/plain": "g     525\np     163\ngg      2\nName: A5, dtype: int64"
          },
          "metadata": {}
        }
      ]
    },
    {
      "metadata": {},
      "cell_type": "markdown",
      "source": "We could consider `gg` as a mistype and change that to the `g` value but without context of the feature we can't be sure that's not correct. also the `crx.name` file says that should be a variable.  \n\nIf the value `gg` was meant to be `g` we would still use the same code but use `credit_data['A5'].replace('gg', 'g', inplace=True)`"
    },
    {
      "metadata": {
        "trusted": true,
        "scrolled": true
      },
      "cell_type": "code",
      "source": "credit_data['A6'].value_counts()",
      "execution_count": 21,
      "outputs": [
        {
          "output_type": "execute_result",
          "execution_count": 21,
          "data": {
            "text/plain": "c     137\nq      78\nw      64\ni      59\naa     54\nff     53\nk      51\ncc     41\nm      38\nx      38\nd      30\ne      25\nj      10\nr       3\nName: A6, dtype: int64"
          },
          "metadata": {}
        }
      ]
    },
    {
      "metadata": {
        "trusted": true,
        "scrolled": true
      },
      "cell_type": "code",
      "source": "credit_data['A6'].replace([None], 'c', inplace=True)\ncredit_data['A6'].value_counts()",
      "execution_count": 22,
      "outputs": [
        {
          "output_type": "execute_result",
          "execution_count": 22,
          "data": {
            "text/plain": "c     146\nq      78\nw      64\ni      59\naa     54\nff     53\nk      51\ncc     41\nm      38\nx      38\nd      30\ne      25\nj      10\nr       3\nName: A6, dtype: int64"
          },
          "metadata": {}
        }
      ]
    },
    {
      "metadata": {
        "trusted": true
      },
      "cell_type": "code",
      "source": "credit_data['A7'].value_counts()",
      "execution_count": 23,
      "outputs": [
        {
          "output_type": "execute_result",
          "execution_count": 23,
          "data": {
            "text/plain": "v     399\nh     138\nbb     59\nff     57\nj       8\nz       8\ndd      6\nn       4\no       2\nName: A7, dtype: int64"
          },
          "metadata": {}
        }
      ]
    },
    {
      "metadata": {
        "trusted": true,
        "scrolled": true
      },
      "cell_type": "code",
      "source": "credit_data['A7'].replace([None], 'v', inplace=True)\ncredit_data['A7'].value_counts()",
      "execution_count": 24,
      "outputs": [
        {
          "output_type": "execute_result",
          "execution_count": 24,
          "data": {
            "text/plain": "v     408\nh     138\nbb     59\nff     57\nj       8\nz       8\ndd      6\nn       4\no       2\nName: A7, dtype: int64"
          },
          "metadata": {}
        }
      ]
    },
    {
      "metadata": {
        "trusted": true
      },
      "cell_type": "markdown",
      "source": "Now we will replacing the `Null` value with the `median` for numerical features."
    },
    {
      "metadata": {
        "trusted": true
      },
      "cell_type": "code",
      "source": "credit_data['A2'].median()",
      "execution_count": 25,
      "outputs": [
        {
          "output_type": "execute_result",
          "execution_count": 25,
          "data": {
            "text/plain": "28.46"
          },
          "metadata": {}
        }
      ]
    },
    {
      "metadata": {
        "trusted": true
      },
      "cell_type": "code",
      "source": "credit_data['A2'].replace([None], credit_data['A2'].median(), inplace=True)",
      "execution_count": 26,
      "outputs": []
    },
    {
      "metadata": {
        "trusted": true
      },
      "cell_type": "code",
      "source": "credit_data['A14'].median()",
      "execution_count": 27,
      "outputs": [
        {
          "output_type": "execute_result",
          "execution_count": 27,
          "data": {
            "text/plain": "160.0"
          },
          "metadata": {}
        }
      ]
    },
    {
      "metadata": {
        "trusted": true
      },
      "cell_type": "code",
      "source": "credit_data['A14'].replace([None], credit_data['A14'].median(), inplace=True)",
      "execution_count": 28,
      "outputs": []
    },
    {
      "metadata": {
        "trusted": true
      },
      "cell_type": "markdown",
      "source": "Now we will check to make sure all the `Null` values have been replaced."
    },
    {
      "metadata": {
        "trusted": true
      },
      "cell_type": "code",
      "source": "credit_data.isna().sum()",
      "execution_count": 29,
      "outputs": [
        {
          "output_type": "execute_result",
          "execution_count": 29,
          "data": {
            "text/plain": "A1     0\nA2     0\nA3     0\nA4     0\nA5     0\nA6     0\nA7     0\nA8     0\nA9     0\nA10    0\nA11    0\nA12    0\nA13    0\nA14    0\nA15    0\nA16    0\ndtype: int64"
          },
          "metadata": {}
        }
      ]
    },
    {
      "metadata": {},
      "cell_type": "markdown",
      "source": "### Discretizing a feature\n\nThis part of the assignment requires us to divide the feature into three bins `Low`, `Medium` and `High`.\n\nBefore we do any major changes to the data set it’s good to create a copy to make these changes on. This way if there is any mistakes that can’t easily be fixed you can always replace values and/or features from the cleanest data set\n"
    },
    {
      "metadata": {
        "trusted": true
      },
      "cell_type": "code",
      "source": "credit_data_copy = credit_data.copy()\n\ncredit_data_copy['A2'] = pd.qcut(credit_data_copy['A2'], q=3, labels=['Low', 'Medium', 'High'])",
      "execution_count": 30,
      "outputs": []
    },
    {
      "metadata": {
        "trusted": true
      },
      "cell_type": "code",
      "source": "credit_data_copy.head()",
      "execution_count": 31,
      "outputs": [
        {
          "output_type": "execute_result",
          "execution_count": 31,
          "data": {
            "text/html": "<div>\n<style scoped>\n    .dataframe tbody tr th:only-of-type {\n        vertical-align: middle;\n    }\n\n    .dataframe tbody tr th {\n        vertical-align: top;\n    }\n\n    .dataframe thead th {\n        text-align: right;\n    }\n</style>\n<table border=\"1\" class=\"dataframe\">\n  <thead>\n    <tr style=\"text-align: right;\">\n      <th></th>\n      <th>A1</th>\n      <th>A2</th>\n      <th>A3</th>\n      <th>A4</th>\n      <th>A5</th>\n      <th>A6</th>\n      <th>A7</th>\n      <th>A8</th>\n      <th>A9</th>\n      <th>A10</th>\n      <th>A11</th>\n      <th>A12</th>\n      <th>A13</th>\n      <th>A14</th>\n      <th>A15</th>\n      <th>A16</th>\n    </tr>\n  </thead>\n  <tbody>\n    <tr>\n      <th>0</th>\n      <td>b</td>\n      <td>Medium</td>\n      <td>0.000</td>\n      <td>u</td>\n      <td>g</td>\n      <td>w</td>\n      <td>v</td>\n      <td>1.25</td>\n      <td>t</td>\n      <td>t</td>\n      <td>1</td>\n      <td>f</td>\n      <td>g</td>\n      <td>202.0</td>\n      <td>0</td>\n      <td>+</td>\n    </tr>\n    <tr>\n      <th>1</th>\n      <td>a</td>\n      <td>High</td>\n      <td>4.460</td>\n      <td>u</td>\n      <td>g</td>\n      <td>q</td>\n      <td>h</td>\n      <td>3.04</td>\n      <td>t</td>\n      <td>t</td>\n      <td>6</td>\n      <td>f</td>\n      <td>g</td>\n      <td>43.0</td>\n      <td>560</td>\n      <td>+</td>\n    </tr>\n    <tr>\n      <th>2</th>\n      <td>a</td>\n      <td>Medium</td>\n      <td>0.500</td>\n      <td>u</td>\n      <td>g</td>\n      <td>q</td>\n      <td>h</td>\n      <td>1.50</td>\n      <td>t</td>\n      <td>f</td>\n      <td>0</td>\n      <td>f</td>\n      <td>g</td>\n      <td>280.0</td>\n      <td>824</td>\n      <td>+</td>\n    </tr>\n    <tr>\n      <th>3</th>\n      <td>b</td>\n      <td>Medium</td>\n      <td>1.540</td>\n      <td>u</td>\n      <td>g</td>\n      <td>w</td>\n      <td>v</td>\n      <td>3.75</td>\n      <td>t</td>\n      <td>t</td>\n      <td>5</td>\n      <td>t</td>\n      <td>g</td>\n      <td>100.0</td>\n      <td>3</td>\n      <td>+</td>\n    </tr>\n    <tr>\n      <th>4</th>\n      <td>b</td>\n      <td>Low</td>\n      <td>5.625</td>\n      <td>u</td>\n      <td>g</td>\n      <td>w</td>\n      <td>v</td>\n      <td>1.71</td>\n      <td>t</td>\n      <td>f</td>\n      <td>0</td>\n      <td>f</td>\n      <td>s</td>\n      <td>120.0</td>\n      <td>0</td>\n      <td>+</td>\n    </tr>\n  </tbody>\n</table>\n</div>",
            "text/plain": "  A1      A2     A3 A4 A5 A6 A7    A8 A9 A10  A11 A12 A13    A14  A15 A16\n0  b  Medium  0.000  u  g  w  v  1.25  t   t    1   f   g  202.0    0   +\n1  a    High  4.460  u  g  q  h  3.04  t   t    6   f   g   43.0  560   +\n2  a  Medium  0.500  u  g  q  h  1.50  t   f    0   f   g  280.0  824   +\n3  b  Medium  1.540  u  g  w  v  3.75  t   t    5   t   g  100.0    3   +\n4  b     Low  5.625  u  g  w  v  1.71  t   f    0   f   s  120.0    0   +"
          },
          "metadata": {}
        }
      ]
    },
    {
      "metadata": {},
      "cell_type": "markdown",
      "source": "### Encoding features.\n\n`Scikit-Learn` requires all the values of a dataset to be numerical to run any machine learning algorithms on it. Therefore we need to do encoding on the the catagorical features. \n\nFor the `A2` feature we can use what is known as `integer-encoding`. This will turn catagorical values that have a distinct ranking (`Low`, `Medium` and `High`) into numbers reflect that ranking system. With the other features We don't know what there relationship to each other are so they are considered discriptive features so we will use one-hot-encoding.\n\n### integer-encoding\n\nfirst we'll start with the `A2` feature."
    },
    {
      "metadata": {
        "trusted": true
      },
      "cell_type": "code",
      "source": "level_mapping = {'Low': 0, 'Medium': 1, 'High': 2}\n\ncredit_data_integer = credit_data_copy.copy()\n\ncredit_data_integer['A2'] = credit_data_integer['A2'].replace(level_mapping)\n\ncredit_data_integer.head()",
      "execution_count": 32,
      "outputs": [
        {
          "output_type": "execute_result",
          "execution_count": 32,
          "data": {
            "text/html": "<div>\n<style scoped>\n    .dataframe tbody tr th:only-of-type {\n        vertical-align: middle;\n    }\n\n    .dataframe tbody tr th {\n        vertical-align: top;\n    }\n\n    .dataframe thead th {\n        text-align: right;\n    }\n</style>\n<table border=\"1\" class=\"dataframe\">\n  <thead>\n    <tr style=\"text-align: right;\">\n      <th></th>\n      <th>A1</th>\n      <th>A2</th>\n      <th>A3</th>\n      <th>A4</th>\n      <th>A5</th>\n      <th>A6</th>\n      <th>A7</th>\n      <th>A8</th>\n      <th>A9</th>\n      <th>A10</th>\n      <th>A11</th>\n      <th>A12</th>\n      <th>A13</th>\n      <th>A14</th>\n      <th>A15</th>\n      <th>A16</th>\n    </tr>\n  </thead>\n  <tbody>\n    <tr>\n      <th>0</th>\n      <td>b</td>\n      <td>1</td>\n      <td>0.000</td>\n      <td>u</td>\n      <td>g</td>\n      <td>w</td>\n      <td>v</td>\n      <td>1.25</td>\n      <td>t</td>\n      <td>t</td>\n      <td>1</td>\n      <td>f</td>\n      <td>g</td>\n      <td>202.0</td>\n      <td>0</td>\n      <td>+</td>\n    </tr>\n    <tr>\n      <th>1</th>\n      <td>a</td>\n      <td>2</td>\n      <td>4.460</td>\n      <td>u</td>\n      <td>g</td>\n      <td>q</td>\n      <td>h</td>\n      <td>3.04</td>\n      <td>t</td>\n      <td>t</td>\n      <td>6</td>\n      <td>f</td>\n      <td>g</td>\n      <td>43.0</td>\n      <td>560</td>\n      <td>+</td>\n    </tr>\n    <tr>\n      <th>2</th>\n      <td>a</td>\n      <td>1</td>\n      <td>0.500</td>\n      <td>u</td>\n      <td>g</td>\n      <td>q</td>\n      <td>h</td>\n      <td>1.50</td>\n      <td>t</td>\n      <td>f</td>\n      <td>0</td>\n      <td>f</td>\n      <td>g</td>\n      <td>280.0</td>\n      <td>824</td>\n      <td>+</td>\n    </tr>\n    <tr>\n      <th>3</th>\n      <td>b</td>\n      <td>1</td>\n      <td>1.540</td>\n      <td>u</td>\n      <td>g</td>\n      <td>w</td>\n      <td>v</td>\n      <td>3.75</td>\n      <td>t</td>\n      <td>t</td>\n      <td>5</td>\n      <td>t</td>\n      <td>g</td>\n      <td>100.0</td>\n      <td>3</td>\n      <td>+</td>\n    </tr>\n    <tr>\n      <th>4</th>\n      <td>b</td>\n      <td>0</td>\n      <td>5.625</td>\n      <td>u</td>\n      <td>g</td>\n      <td>w</td>\n      <td>v</td>\n      <td>1.71</td>\n      <td>t</td>\n      <td>f</td>\n      <td>0</td>\n      <td>f</td>\n      <td>s</td>\n      <td>120.0</td>\n      <td>0</td>\n      <td>+</td>\n    </tr>\n  </tbody>\n</table>\n</div>",
            "text/plain": "  A1  A2     A3 A4 A5 A6 A7    A8 A9 A10  A11 A12 A13    A14  A15 A16\n0  b   1  0.000  u  g  w  v  1.25  t   t    1   f   g  202.0    0   +\n1  a   2  4.460  u  g  q  h  3.04  t   t    6   f   g   43.0  560   +\n2  a   1  0.500  u  g  q  h  1.50  t   f    0   f   g  280.0  824   +\n3  b   1  1.540  u  g  w  v  3.75  t   t    5   t   g  100.0    3   +\n4  b   0  5.625  u  g  w  v  1.71  t   f    0   f   s  120.0    0   +"
          },
          "metadata": {}
        }
      ]
    },
    {
      "metadata": {},
      "cell_type": "markdown",
      "source": "### one-hot-encoding\n\nNext we will move on to one-hot-encoding. First we'll start with the features that only have binary values, This will include the target feature `A16` since this will also need to become an number eventually. "
    },
    {
      "metadata": {
        "trusted": true
      },
      "cell_type": "code",
      "source": "credit_data_encoded = credit_data_integer.copy()\n\ncredit_data_encoded_cols = credit_data_encoded.columns[credit_data_copy.dtypes==object].tolist()\n\nfor col in credit_data_encoded_cols:\n    n = len(credit_data_encoded[col].unique())\n    if (n == 2):\n        credit_data_encoded[col] = pd.get_dummies(credit_data_encoded[col], drop_first=True)\n        \ncredit_data_encoded.head()",
      "execution_count": 33,
      "outputs": [
        {
          "output_type": "execute_result",
          "execution_count": 33,
          "data": {
            "text/html": "<div>\n<style scoped>\n    .dataframe tbody tr th:only-of-type {\n        vertical-align: middle;\n    }\n\n    .dataframe tbody tr th {\n        vertical-align: top;\n    }\n\n    .dataframe thead th {\n        text-align: right;\n    }\n</style>\n<table border=\"1\" class=\"dataframe\">\n  <thead>\n    <tr style=\"text-align: right;\">\n      <th></th>\n      <th>A1</th>\n      <th>A2</th>\n      <th>A3</th>\n      <th>A4</th>\n      <th>A5</th>\n      <th>A6</th>\n      <th>A7</th>\n      <th>A8</th>\n      <th>A9</th>\n      <th>A10</th>\n      <th>A11</th>\n      <th>A12</th>\n      <th>A13</th>\n      <th>A14</th>\n      <th>A15</th>\n      <th>A16</th>\n    </tr>\n  </thead>\n  <tbody>\n    <tr>\n      <th>0</th>\n      <td>1</td>\n      <td>1</td>\n      <td>0.000</td>\n      <td>u</td>\n      <td>g</td>\n      <td>w</td>\n      <td>v</td>\n      <td>1.25</td>\n      <td>1</td>\n      <td>1</td>\n      <td>1</td>\n      <td>0</td>\n      <td>g</td>\n      <td>202.0</td>\n      <td>0</td>\n      <td>0</td>\n    </tr>\n    <tr>\n      <th>1</th>\n      <td>0</td>\n      <td>2</td>\n      <td>4.460</td>\n      <td>u</td>\n      <td>g</td>\n      <td>q</td>\n      <td>h</td>\n      <td>3.04</td>\n      <td>1</td>\n      <td>1</td>\n      <td>6</td>\n      <td>0</td>\n      <td>g</td>\n      <td>43.0</td>\n      <td>560</td>\n      <td>0</td>\n    </tr>\n    <tr>\n      <th>2</th>\n      <td>0</td>\n      <td>1</td>\n      <td>0.500</td>\n      <td>u</td>\n      <td>g</td>\n      <td>q</td>\n      <td>h</td>\n      <td>1.50</td>\n      <td>1</td>\n      <td>0</td>\n      <td>0</td>\n      <td>0</td>\n      <td>g</td>\n      <td>280.0</td>\n      <td>824</td>\n      <td>0</td>\n    </tr>\n    <tr>\n      <th>3</th>\n      <td>1</td>\n      <td>1</td>\n      <td>1.540</td>\n      <td>u</td>\n      <td>g</td>\n      <td>w</td>\n      <td>v</td>\n      <td>3.75</td>\n      <td>1</td>\n      <td>1</td>\n      <td>5</td>\n      <td>1</td>\n      <td>g</td>\n      <td>100.0</td>\n      <td>3</td>\n      <td>0</td>\n    </tr>\n    <tr>\n      <th>4</th>\n      <td>1</td>\n      <td>0</td>\n      <td>5.625</td>\n      <td>u</td>\n      <td>g</td>\n      <td>w</td>\n      <td>v</td>\n      <td>1.71</td>\n      <td>1</td>\n      <td>0</td>\n      <td>0</td>\n      <td>0</td>\n      <td>s</td>\n      <td>120.0</td>\n      <td>0</td>\n      <td>0</td>\n    </tr>\n  </tbody>\n</table>\n</div>",
            "text/plain": "   A1  A2     A3 A4 A5 A6 A7    A8  A9  A10  A11  A12 A13    A14  A15  A16\n0   1   1  0.000  u  g  w  v  1.25   1    1    1    0   g  202.0    0    0\n1   0   2  4.460  u  g  q  h  3.04   1    1    6    0   g   43.0  560    0\n2   0   1  0.500  u  g  q  h  1.50   1    0    0    0   g  280.0  824    0\n3   1   1  1.540  u  g  w  v  3.75   1    1    5    1   g  100.0    3    0\n4   1   0  5.625  u  g  w  v  1.71   1    0    0    0   s  120.0    0    0"
          },
          "metadata": {}
        }
      ]
    },
    {
      "metadata": {},
      "cell_type": "markdown",
      "source": "Now we will encode the catagorical features with mulitple values."
    },
    {
      "metadata": {
        "trusted": true
      },
      "cell_type": "code",
      "source": "credit_data_encoded = pd.get_dummies(credit_data_encoded)\ncredit_data_encoded.head()",
      "execution_count": 34,
      "outputs": [
        {
          "output_type": "execute_result",
          "execution_count": 34,
          "data": {
            "text/html": "<div>\n<style scoped>\n    .dataframe tbody tr th:only-of-type {\n        vertical-align: middle;\n    }\n\n    .dataframe tbody tr th {\n        vertical-align: top;\n    }\n\n    .dataframe thead th {\n        text-align: right;\n    }\n</style>\n<table border=\"1\" class=\"dataframe\">\n  <thead>\n    <tr style=\"text-align: right;\">\n      <th></th>\n      <th>A1</th>\n      <th>A2</th>\n      <th>A3</th>\n      <th>A8</th>\n      <th>A9</th>\n      <th>A10</th>\n      <th>A11</th>\n      <th>A12</th>\n      <th>A14</th>\n      <th>A15</th>\n      <th>...</th>\n      <th>A7_ff</th>\n      <th>A7_h</th>\n      <th>A7_j</th>\n      <th>A7_n</th>\n      <th>A7_o</th>\n      <th>A7_v</th>\n      <th>A7_z</th>\n      <th>A13_g</th>\n      <th>A13_p</th>\n      <th>A13_s</th>\n    </tr>\n  </thead>\n  <tbody>\n    <tr>\n      <th>0</th>\n      <td>1</td>\n      <td>1</td>\n      <td>0.000</td>\n      <td>1.25</td>\n      <td>1</td>\n      <td>1</td>\n      <td>1</td>\n      <td>0</td>\n      <td>202.0</td>\n      <td>0</td>\n      <td>...</td>\n      <td>0</td>\n      <td>0</td>\n      <td>0</td>\n      <td>0</td>\n      <td>0</td>\n      <td>1</td>\n      <td>0</td>\n      <td>1</td>\n      <td>0</td>\n      <td>0</td>\n    </tr>\n    <tr>\n      <th>1</th>\n      <td>0</td>\n      <td>2</td>\n      <td>4.460</td>\n      <td>3.04</td>\n      <td>1</td>\n      <td>1</td>\n      <td>6</td>\n      <td>0</td>\n      <td>43.0</td>\n      <td>560</td>\n      <td>...</td>\n      <td>0</td>\n      <td>1</td>\n      <td>0</td>\n      <td>0</td>\n      <td>0</td>\n      <td>0</td>\n      <td>0</td>\n      <td>1</td>\n      <td>0</td>\n      <td>0</td>\n    </tr>\n    <tr>\n      <th>2</th>\n      <td>0</td>\n      <td>1</td>\n      <td>0.500</td>\n      <td>1.50</td>\n      <td>1</td>\n      <td>0</td>\n      <td>0</td>\n      <td>0</td>\n      <td>280.0</td>\n      <td>824</td>\n      <td>...</td>\n      <td>0</td>\n      <td>1</td>\n      <td>0</td>\n      <td>0</td>\n      <td>0</td>\n      <td>0</td>\n      <td>0</td>\n      <td>1</td>\n      <td>0</td>\n      <td>0</td>\n    </tr>\n    <tr>\n      <th>3</th>\n      <td>1</td>\n      <td>1</td>\n      <td>1.540</td>\n      <td>3.75</td>\n      <td>1</td>\n      <td>1</td>\n      <td>5</td>\n      <td>1</td>\n      <td>100.0</td>\n      <td>3</td>\n      <td>...</td>\n      <td>0</td>\n      <td>0</td>\n      <td>0</td>\n      <td>0</td>\n      <td>0</td>\n      <td>1</td>\n      <td>0</td>\n      <td>1</td>\n      <td>0</td>\n      <td>0</td>\n    </tr>\n    <tr>\n      <th>4</th>\n      <td>1</td>\n      <td>0</td>\n      <td>5.625</td>\n      <td>1.71</td>\n      <td>1</td>\n      <td>0</td>\n      <td>0</td>\n      <td>0</td>\n      <td>120.0</td>\n      <td>0</td>\n      <td>...</td>\n      <td>0</td>\n      <td>0</td>\n      <td>0</td>\n      <td>0</td>\n      <td>0</td>\n      <td>1</td>\n      <td>0</td>\n      <td>0</td>\n      <td>0</td>\n      <td>1</td>\n    </tr>\n  </tbody>\n</table>\n<p>5 rows × 43 columns</p>\n</div>",
            "text/plain": "   A1  A2     A3    A8  A9  A10  A11  A12    A14  A15  ...    A7_ff  A7_h  \\\n0   1   1  0.000  1.25   1    1    1    0  202.0    0  ...        0     0   \n1   0   2  4.460  3.04   1    1    6    0   43.0  560  ...        0     1   \n2   0   1  0.500  1.50   1    0    0    0  280.0  824  ...        0     1   \n3   1   1  1.540  3.75   1    1    5    1  100.0    3  ...        0     0   \n4   1   0  5.625  1.71   1    0    0    0  120.0    0  ...        0     0   \n\n   A7_j  A7_n  A7_o  A7_v  A7_z  A13_g  A13_p  A13_s  \n0     0     0     0     1     0      1      0      0  \n1     0     0     0     0     0      1      0      0  \n2     0     0     0     0     0      1      0      0  \n3     0     0     0     1     0      1      0      0  \n4     0     0     0     1     0      0      0      1  \n\n[5 rows x 43 columns]"
          },
          "metadata": {}
        }
      ]
    },
    {
      "metadata": {},
      "cell_type": "markdown",
      "source": "As you can now see there are new features added along the dataframe. This is what we want to do but the machine learning algoriths require our target column to be at the end of the datafram ad also to be labelled as `target`."
    },
    {
      "metadata": {
        "trusted": true
      },
      "cell_type": "code",
      "source": "credit_data_encoded.rename(columns={\"A16\": \"target\"}, inplace=True)\ncols = list(credit_data_encoded.columns.values)\ncols.pop(cols.index('target'))\ncredit_data_target = credit_data_encoded[cols+['target']]\ncredit_data_target.head()\n",
      "execution_count": 35,
      "outputs": [
        {
          "output_type": "execute_result",
          "execution_count": 35,
          "data": {
            "text/html": "<div>\n<style scoped>\n    .dataframe tbody tr th:only-of-type {\n        vertical-align: middle;\n    }\n\n    .dataframe tbody tr th {\n        vertical-align: top;\n    }\n\n    .dataframe thead th {\n        text-align: right;\n    }\n</style>\n<table border=\"1\" class=\"dataframe\">\n  <thead>\n    <tr style=\"text-align: right;\">\n      <th></th>\n      <th>A1</th>\n      <th>A2</th>\n      <th>A3</th>\n      <th>A8</th>\n      <th>A9</th>\n      <th>A10</th>\n      <th>A11</th>\n      <th>A12</th>\n      <th>A14</th>\n      <th>A15</th>\n      <th>...</th>\n      <th>A7_h</th>\n      <th>A7_j</th>\n      <th>A7_n</th>\n      <th>A7_o</th>\n      <th>A7_v</th>\n      <th>A7_z</th>\n      <th>A13_g</th>\n      <th>A13_p</th>\n      <th>A13_s</th>\n      <th>target</th>\n    </tr>\n  </thead>\n  <tbody>\n    <tr>\n      <th>0</th>\n      <td>1</td>\n      <td>1</td>\n      <td>0.000</td>\n      <td>1.25</td>\n      <td>1</td>\n      <td>1</td>\n      <td>1</td>\n      <td>0</td>\n      <td>202.0</td>\n      <td>0</td>\n      <td>...</td>\n      <td>0</td>\n      <td>0</td>\n      <td>0</td>\n      <td>0</td>\n      <td>1</td>\n      <td>0</td>\n      <td>1</td>\n      <td>0</td>\n      <td>0</td>\n      <td>0</td>\n    </tr>\n    <tr>\n      <th>1</th>\n      <td>0</td>\n      <td>2</td>\n      <td>4.460</td>\n      <td>3.04</td>\n      <td>1</td>\n      <td>1</td>\n      <td>6</td>\n      <td>0</td>\n      <td>43.0</td>\n      <td>560</td>\n      <td>...</td>\n      <td>1</td>\n      <td>0</td>\n      <td>0</td>\n      <td>0</td>\n      <td>0</td>\n      <td>0</td>\n      <td>1</td>\n      <td>0</td>\n      <td>0</td>\n      <td>0</td>\n    </tr>\n    <tr>\n      <th>2</th>\n      <td>0</td>\n      <td>1</td>\n      <td>0.500</td>\n      <td>1.50</td>\n      <td>1</td>\n      <td>0</td>\n      <td>0</td>\n      <td>0</td>\n      <td>280.0</td>\n      <td>824</td>\n      <td>...</td>\n      <td>1</td>\n      <td>0</td>\n      <td>0</td>\n      <td>0</td>\n      <td>0</td>\n      <td>0</td>\n      <td>1</td>\n      <td>0</td>\n      <td>0</td>\n      <td>0</td>\n    </tr>\n    <tr>\n      <th>3</th>\n      <td>1</td>\n      <td>1</td>\n      <td>1.540</td>\n      <td>3.75</td>\n      <td>1</td>\n      <td>1</td>\n      <td>5</td>\n      <td>1</td>\n      <td>100.0</td>\n      <td>3</td>\n      <td>...</td>\n      <td>0</td>\n      <td>0</td>\n      <td>0</td>\n      <td>0</td>\n      <td>1</td>\n      <td>0</td>\n      <td>1</td>\n      <td>0</td>\n      <td>0</td>\n      <td>0</td>\n    </tr>\n    <tr>\n      <th>4</th>\n      <td>1</td>\n      <td>0</td>\n      <td>5.625</td>\n      <td>1.71</td>\n      <td>1</td>\n      <td>0</td>\n      <td>0</td>\n      <td>0</td>\n      <td>120.0</td>\n      <td>0</td>\n      <td>...</td>\n      <td>0</td>\n      <td>0</td>\n      <td>0</td>\n      <td>0</td>\n      <td>1</td>\n      <td>0</td>\n      <td>0</td>\n      <td>0</td>\n      <td>1</td>\n      <td>0</td>\n    </tr>\n  </tbody>\n</table>\n<p>5 rows × 43 columns</p>\n</div>",
            "text/plain": "   A1  A2     A3    A8  A9  A10  A11  A12    A14  A15   ...    A7_h  A7_j  \\\n0   1   1  0.000  1.25   1    1    1    0  202.0    0   ...       0     0   \n1   0   2  4.460  3.04   1    1    6    0   43.0  560   ...       1     0   \n2   0   1  0.500  1.50   1    0    0    0  280.0  824   ...       1     0   \n3   1   1  1.540  3.75   1    1    5    1  100.0    3   ...       0     0   \n4   1   0  5.625  1.71   1    0    0    0  120.0    0   ...       0     0   \n\n   A7_n  A7_o  A7_v  A7_z  A13_g  A13_p  A13_s  target  \n0     0     0     1     0      1      0      0       0  \n1     0     0     0     0      1      0      0       0  \n2     0     0     0     0      1      0      0       0  \n3     0     0     1     0      1      0      0       0  \n4     0     0     1     0      0      0      1       0  \n\n[5 rows x 43 columns]"
          },
          "metadata": {}
        }
      ]
    },
    {
      "metadata": {},
      "cell_type": "markdown",
      "source": "### Normalizing the data\n\nIt is important to consider normalizing the data as some features could be measured in percentages, years, etc... For this assignment we are normalizing the data using standard scaling. From the `crx.name` file we know that `A2`, `A3`, `A8`, `A11`, `A14` and `A15` are our continous numerical values. So these are the features we will do our normalization on. "
    },
    {
      "metadata": {
        "trusted": true
      },
      "cell_type": "code",
      "source": "credit_data_norm = preprocessing.StandardScaler().fit_transform(credit_data_target[['A3','A8','A11','A14','A15']])\ncredit_data_round= credit_data_norm.round(3)\ncredit_data_round\n\ncredit_data_target[[\"A3\",\"A8\",\"A11\",\"A14\",\"A15\"]] = credit_data_round.tolist()\ncredit_data_target.head()",
      "execution_count": 36,
      "outputs": [
        {
          "output_type": "execute_result",
          "execution_count": 36,
          "data": {
            "text/html": "<div>\n<style scoped>\n    .dataframe tbody tr th:only-of-type {\n        vertical-align: middle;\n    }\n\n    .dataframe tbody tr th {\n        vertical-align: top;\n    }\n\n    .dataframe thead th {\n        text-align: right;\n    }\n</style>\n<table border=\"1\" class=\"dataframe\">\n  <thead>\n    <tr style=\"text-align: right;\">\n      <th></th>\n      <th>A1</th>\n      <th>A2</th>\n      <th>A3</th>\n      <th>A8</th>\n      <th>A9</th>\n      <th>A10</th>\n      <th>A11</th>\n      <th>A12</th>\n      <th>A14</th>\n      <th>A15</th>\n      <th>...</th>\n      <th>A7_h</th>\n      <th>A7_j</th>\n      <th>A7_n</th>\n      <th>A7_o</th>\n      <th>A7_v</th>\n      <th>A7_z</th>\n      <th>A13_g</th>\n      <th>A13_p</th>\n      <th>A13_s</th>\n      <th>target</th>\n    </tr>\n  </thead>\n  <tbody>\n    <tr>\n      <th>0</th>\n      <td>1</td>\n      <td>1</td>\n      <td>-0.957</td>\n      <td>-0.291</td>\n      <td>1</td>\n      <td>1</td>\n      <td>-0.288</td>\n      <td>0</td>\n      <td>0.107</td>\n      <td>-0.195</td>\n      <td>...</td>\n      <td>0</td>\n      <td>0</td>\n      <td>0</td>\n      <td>0</td>\n      <td>1</td>\n      <td>0</td>\n      <td>1</td>\n      <td>0</td>\n      <td>0</td>\n      <td>0</td>\n    </tr>\n    <tr>\n      <th>1</th>\n      <td>0</td>\n      <td>2</td>\n      <td>-0.060</td>\n      <td>0.244</td>\n      <td>1</td>\n      <td>1</td>\n      <td>0.741</td>\n      <td>0</td>\n      <td>-0.817</td>\n      <td>-0.088</td>\n      <td>...</td>\n      <td>1</td>\n      <td>0</td>\n      <td>0</td>\n      <td>0</td>\n      <td>0</td>\n      <td>0</td>\n      <td>1</td>\n      <td>0</td>\n      <td>0</td>\n      <td>0</td>\n    </tr>\n    <tr>\n      <th>2</th>\n      <td>0</td>\n      <td>1</td>\n      <td>-0.856</td>\n      <td>-0.216</td>\n      <td>1</td>\n      <td>0</td>\n      <td>-0.494</td>\n      <td>0</td>\n      <td>0.560</td>\n      <td>-0.037</td>\n      <td>...</td>\n      <td>1</td>\n      <td>0</td>\n      <td>0</td>\n      <td>0</td>\n      <td>0</td>\n      <td>0</td>\n      <td>1</td>\n      <td>0</td>\n      <td>0</td>\n      <td>0</td>\n    </tr>\n    <tr>\n      <th>3</th>\n      <td>1</td>\n      <td>1</td>\n      <td>-0.647</td>\n      <td>0.457</td>\n      <td>1</td>\n      <td>1</td>\n      <td>0.535</td>\n      <td>1</td>\n      <td>-0.486</td>\n      <td>-0.195</td>\n      <td>...</td>\n      <td>0</td>\n      <td>0</td>\n      <td>0</td>\n      <td>0</td>\n      <td>1</td>\n      <td>0</td>\n      <td>1</td>\n      <td>0</td>\n      <td>0</td>\n      <td>0</td>\n    </tr>\n    <tr>\n      <th>4</th>\n      <td>1</td>\n      <td>0</td>\n      <td>0.174</td>\n      <td>-0.154</td>\n      <td>1</td>\n      <td>0</td>\n      <td>-0.494</td>\n      <td>0</td>\n      <td>-0.369</td>\n      <td>-0.195</td>\n      <td>...</td>\n      <td>0</td>\n      <td>0</td>\n      <td>0</td>\n      <td>0</td>\n      <td>1</td>\n      <td>0</td>\n      <td>0</td>\n      <td>0</td>\n      <td>1</td>\n      <td>0</td>\n    </tr>\n  </tbody>\n</table>\n<p>5 rows × 43 columns</p>\n</div>",
            "text/plain": "   A1  A2     A3     A8  A9  A10    A11  A12    A14    A15   ...    A7_h  \\\n0   1   1 -0.957 -0.291   1    1 -0.288    0  0.107 -0.195   ...       0   \n1   0   2 -0.060  0.244   1    1  0.741    0 -0.817 -0.088   ...       1   \n2   0   1 -0.856 -0.216   1    0 -0.494    0  0.560 -0.037   ...       1   \n3   1   1 -0.647  0.457   1    1  0.535    1 -0.486 -0.195   ...       0   \n4   1   0  0.174 -0.154   1    0 -0.494    0 -0.369 -0.195   ...       0   \n\n   A7_j  A7_n  A7_o  A7_v  A7_z  A13_g  A13_p  A13_s  target  \n0     0     0     0     1     0      1      0      0       0  \n1     0     0     0     0     0      1      0      0       0  \n2     0     0     0     0     0      1      0      0       0  \n3     0     0     0     1     0      1      0      0       0  \n4     0     0     0     1     0      0      0      1       0  \n\n[5 rows x 43 columns]"
          },
          "metadata": {}
        }
      ]
    },
    {
      "metadata": {},
      "cell_type": "markdown",
      "source": "The data set should now be cleaned and ready for processing. As part of the assignmetn we will be naming the cleaned dataframe as `df_clean` then running the required code block three times and then saving a the data fram as a .csv file."
    },
    {
      "metadata": {
        "trusted": true
      },
      "cell_type": "code",
      "source": "df_clean = credit_data_target\n\ndf_clean.shape\ndf_clean.describe(include='all').round(3) \ndf_clean.head(5)",
      "execution_count": 37,
      "outputs": [
        {
          "output_type": "execute_result",
          "execution_count": 37,
          "data": {
            "text/html": "<div>\n<style scoped>\n    .dataframe tbody tr th:only-of-type {\n        vertical-align: middle;\n    }\n\n    .dataframe tbody tr th {\n        vertical-align: top;\n    }\n\n    .dataframe thead th {\n        text-align: right;\n    }\n</style>\n<table border=\"1\" class=\"dataframe\">\n  <thead>\n    <tr style=\"text-align: right;\">\n      <th></th>\n      <th>A1</th>\n      <th>A2</th>\n      <th>A3</th>\n      <th>A8</th>\n      <th>A9</th>\n      <th>A10</th>\n      <th>A11</th>\n      <th>A12</th>\n      <th>A14</th>\n      <th>A15</th>\n      <th>...</th>\n      <th>A7_h</th>\n      <th>A7_j</th>\n      <th>A7_n</th>\n      <th>A7_o</th>\n      <th>A7_v</th>\n      <th>A7_z</th>\n      <th>A13_g</th>\n      <th>A13_p</th>\n      <th>A13_s</th>\n      <th>target</th>\n    </tr>\n  </thead>\n  <tbody>\n    <tr>\n      <th>0</th>\n      <td>1</td>\n      <td>1</td>\n      <td>-0.957</td>\n      <td>-0.291</td>\n      <td>1</td>\n      <td>1</td>\n      <td>-0.288</td>\n      <td>0</td>\n      <td>0.107</td>\n      <td>-0.195</td>\n      <td>...</td>\n      <td>0</td>\n      <td>0</td>\n      <td>0</td>\n      <td>0</td>\n      <td>1</td>\n      <td>0</td>\n      <td>1</td>\n      <td>0</td>\n      <td>0</td>\n      <td>0</td>\n    </tr>\n    <tr>\n      <th>1</th>\n      <td>0</td>\n      <td>2</td>\n      <td>-0.060</td>\n      <td>0.244</td>\n      <td>1</td>\n      <td>1</td>\n      <td>0.741</td>\n      <td>0</td>\n      <td>-0.817</td>\n      <td>-0.088</td>\n      <td>...</td>\n      <td>1</td>\n      <td>0</td>\n      <td>0</td>\n      <td>0</td>\n      <td>0</td>\n      <td>0</td>\n      <td>1</td>\n      <td>0</td>\n      <td>0</td>\n      <td>0</td>\n    </tr>\n    <tr>\n      <th>2</th>\n      <td>0</td>\n      <td>1</td>\n      <td>-0.856</td>\n      <td>-0.216</td>\n      <td>1</td>\n      <td>0</td>\n      <td>-0.494</td>\n      <td>0</td>\n      <td>0.560</td>\n      <td>-0.037</td>\n      <td>...</td>\n      <td>1</td>\n      <td>0</td>\n      <td>0</td>\n      <td>0</td>\n      <td>0</td>\n      <td>0</td>\n      <td>1</td>\n      <td>0</td>\n      <td>0</td>\n      <td>0</td>\n    </tr>\n    <tr>\n      <th>3</th>\n      <td>1</td>\n      <td>1</td>\n      <td>-0.647</td>\n      <td>0.457</td>\n      <td>1</td>\n      <td>1</td>\n      <td>0.535</td>\n      <td>1</td>\n      <td>-0.486</td>\n      <td>-0.195</td>\n      <td>...</td>\n      <td>0</td>\n      <td>0</td>\n      <td>0</td>\n      <td>0</td>\n      <td>1</td>\n      <td>0</td>\n      <td>1</td>\n      <td>0</td>\n      <td>0</td>\n      <td>0</td>\n    </tr>\n    <tr>\n      <th>4</th>\n      <td>1</td>\n      <td>0</td>\n      <td>0.174</td>\n      <td>-0.154</td>\n      <td>1</td>\n      <td>0</td>\n      <td>-0.494</td>\n      <td>0</td>\n      <td>-0.369</td>\n      <td>-0.195</td>\n      <td>...</td>\n      <td>0</td>\n      <td>0</td>\n      <td>0</td>\n      <td>0</td>\n      <td>1</td>\n      <td>0</td>\n      <td>0</td>\n      <td>0</td>\n      <td>1</td>\n      <td>0</td>\n    </tr>\n  </tbody>\n</table>\n<p>5 rows × 43 columns</p>\n</div>",
            "text/plain": "   A1  A2     A3     A8  A9  A10    A11  A12    A14    A15   ...    A7_h  \\\n0   1   1 -0.957 -0.291   1    1 -0.288    0  0.107 -0.195   ...       0   \n1   0   2 -0.060  0.244   1    1  0.741    0 -0.817 -0.088   ...       1   \n2   0   1 -0.856 -0.216   1    0 -0.494    0  0.560 -0.037   ...       1   \n3   1   1 -0.647  0.457   1    1  0.535    1 -0.486 -0.195   ...       0   \n4   1   0  0.174 -0.154   1    0 -0.494    0 -0.369 -0.195   ...       0   \n\n   A7_j  A7_n  A7_o  A7_v  A7_z  A13_g  A13_p  A13_s  target  \n0     0     0     0     1     0      1      0      0       0  \n1     0     0     0     0     0      1      0      0       0  \n2     0     0     0     0     0      1      0      0       0  \n3     0     0     0     1     0      1      0      0       0  \n4     0     0     0     1     0      0      0      1       0  \n\n[5 rows x 43 columns]"
          },
          "metadata": {}
        }
      ]
    },
    {
      "metadata": {
        "trusted": true
      },
      "cell_type": "code",
      "source": "df_clean.shape\ndf_clean.describe(include='all').round(3) \ndf_clean.head(5)",
      "execution_count": 38,
      "outputs": [
        {
          "output_type": "execute_result",
          "execution_count": 38,
          "data": {
            "text/html": "<div>\n<style scoped>\n    .dataframe tbody tr th:only-of-type {\n        vertical-align: middle;\n    }\n\n    .dataframe tbody tr th {\n        vertical-align: top;\n    }\n\n    .dataframe thead th {\n        text-align: right;\n    }\n</style>\n<table border=\"1\" class=\"dataframe\">\n  <thead>\n    <tr style=\"text-align: right;\">\n      <th></th>\n      <th>A1</th>\n      <th>A2</th>\n      <th>A3</th>\n      <th>A8</th>\n      <th>A9</th>\n      <th>A10</th>\n      <th>A11</th>\n      <th>A12</th>\n      <th>A14</th>\n      <th>A15</th>\n      <th>...</th>\n      <th>A7_h</th>\n      <th>A7_j</th>\n      <th>A7_n</th>\n      <th>A7_o</th>\n      <th>A7_v</th>\n      <th>A7_z</th>\n      <th>A13_g</th>\n      <th>A13_p</th>\n      <th>A13_s</th>\n      <th>target</th>\n    </tr>\n  </thead>\n  <tbody>\n    <tr>\n      <th>0</th>\n      <td>1</td>\n      <td>1</td>\n      <td>-0.957</td>\n      <td>-0.291</td>\n      <td>1</td>\n      <td>1</td>\n      <td>-0.288</td>\n      <td>0</td>\n      <td>0.107</td>\n      <td>-0.195</td>\n      <td>...</td>\n      <td>0</td>\n      <td>0</td>\n      <td>0</td>\n      <td>0</td>\n      <td>1</td>\n      <td>0</td>\n      <td>1</td>\n      <td>0</td>\n      <td>0</td>\n      <td>0</td>\n    </tr>\n    <tr>\n      <th>1</th>\n      <td>0</td>\n      <td>2</td>\n      <td>-0.060</td>\n      <td>0.244</td>\n      <td>1</td>\n      <td>1</td>\n      <td>0.741</td>\n      <td>0</td>\n      <td>-0.817</td>\n      <td>-0.088</td>\n      <td>...</td>\n      <td>1</td>\n      <td>0</td>\n      <td>0</td>\n      <td>0</td>\n      <td>0</td>\n      <td>0</td>\n      <td>1</td>\n      <td>0</td>\n      <td>0</td>\n      <td>0</td>\n    </tr>\n    <tr>\n      <th>2</th>\n      <td>0</td>\n      <td>1</td>\n      <td>-0.856</td>\n      <td>-0.216</td>\n      <td>1</td>\n      <td>0</td>\n      <td>-0.494</td>\n      <td>0</td>\n      <td>0.560</td>\n      <td>-0.037</td>\n      <td>...</td>\n      <td>1</td>\n      <td>0</td>\n      <td>0</td>\n      <td>0</td>\n      <td>0</td>\n      <td>0</td>\n      <td>1</td>\n      <td>0</td>\n      <td>0</td>\n      <td>0</td>\n    </tr>\n    <tr>\n      <th>3</th>\n      <td>1</td>\n      <td>1</td>\n      <td>-0.647</td>\n      <td>0.457</td>\n      <td>1</td>\n      <td>1</td>\n      <td>0.535</td>\n      <td>1</td>\n      <td>-0.486</td>\n      <td>-0.195</td>\n      <td>...</td>\n      <td>0</td>\n      <td>0</td>\n      <td>0</td>\n      <td>0</td>\n      <td>1</td>\n      <td>0</td>\n      <td>1</td>\n      <td>0</td>\n      <td>0</td>\n      <td>0</td>\n    </tr>\n    <tr>\n      <th>4</th>\n      <td>1</td>\n      <td>0</td>\n      <td>0.174</td>\n      <td>-0.154</td>\n      <td>1</td>\n      <td>0</td>\n      <td>-0.494</td>\n      <td>0</td>\n      <td>-0.369</td>\n      <td>-0.195</td>\n      <td>...</td>\n      <td>0</td>\n      <td>0</td>\n      <td>0</td>\n      <td>0</td>\n      <td>1</td>\n      <td>0</td>\n      <td>0</td>\n      <td>0</td>\n      <td>1</td>\n      <td>0</td>\n    </tr>\n  </tbody>\n</table>\n<p>5 rows × 43 columns</p>\n</div>",
            "text/plain": "   A1  A2     A3     A8  A9  A10    A11  A12    A14    A15   ...    A7_h  \\\n0   1   1 -0.957 -0.291   1    1 -0.288    0  0.107 -0.195   ...       0   \n1   0   2 -0.060  0.244   1    1  0.741    0 -0.817 -0.088   ...       1   \n2   0   1 -0.856 -0.216   1    0 -0.494    0  0.560 -0.037   ...       1   \n3   1   1 -0.647  0.457   1    1  0.535    1 -0.486 -0.195   ...       0   \n4   1   0  0.174 -0.154   1    0 -0.494    0 -0.369 -0.195   ...       0   \n\n   A7_j  A7_n  A7_o  A7_v  A7_z  A13_g  A13_p  A13_s  target  \n0     0     0     0     1     0      1      0      0       0  \n1     0     0     0     0     0      1      0      0       0  \n2     0     0     0     0     0      1      0      0       0  \n3     0     0     0     1     0      1      0      0       0  \n4     0     0     0     1     0      0      0      1       0  \n\n[5 rows x 43 columns]"
          },
          "metadata": {}
        }
      ]
    },
    {
      "metadata": {
        "trusted": true
      },
      "cell_type": "code",
      "source": "df_clean.shape\ndf_clean.describe(include='all').round(3) \ndf_clean.head(5)",
      "execution_count": 39,
      "outputs": [
        {
          "output_type": "execute_result",
          "execution_count": 39,
          "data": {
            "text/html": "<div>\n<style scoped>\n    .dataframe tbody tr th:only-of-type {\n        vertical-align: middle;\n    }\n\n    .dataframe tbody tr th {\n        vertical-align: top;\n    }\n\n    .dataframe thead th {\n        text-align: right;\n    }\n</style>\n<table border=\"1\" class=\"dataframe\">\n  <thead>\n    <tr style=\"text-align: right;\">\n      <th></th>\n      <th>A1</th>\n      <th>A2</th>\n      <th>A3</th>\n      <th>A8</th>\n      <th>A9</th>\n      <th>A10</th>\n      <th>A11</th>\n      <th>A12</th>\n      <th>A14</th>\n      <th>A15</th>\n      <th>...</th>\n      <th>A7_h</th>\n      <th>A7_j</th>\n      <th>A7_n</th>\n      <th>A7_o</th>\n      <th>A7_v</th>\n      <th>A7_z</th>\n      <th>A13_g</th>\n      <th>A13_p</th>\n      <th>A13_s</th>\n      <th>target</th>\n    </tr>\n  </thead>\n  <tbody>\n    <tr>\n      <th>0</th>\n      <td>1</td>\n      <td>1</td>\n      <td>-0.957</td>\n      <td>-0.291</td>\n      <td>1</td>\n      <td>1</td>\n      <td>-0.288</td>\n      <td>0</td>\n      <td>0.107</td>\n      <td>-0.195</td>\n      <td>...</td>\n      <td>0</td>\n      <td>0</td>\n      <td>0</td>\n      <td>0</td>\n      <td>1</td>\n      <td>0</td>\n      <td>1</td>\n      <td>0</td>\n      <td>0</td>\n      <td>0</td>\n    </tr>\n    <tr>\n      <th>1</th>\n      <td>0</td>\n      <td>2</td>\n      <td>-0.060</td>\n      <td>0.244</td>\n      <td>1</td>\n      <td>1</td>\n      <td>0.741</td>\n      <td>0</td>\n      <td>-0.817</td>\n      <td>-0.088</td>\n      <td>...</td>\n      <td>1</td>\n      <td>0</td>\n      <td>0</td>\n      <td>0</td>\n      <td>0</td>\n      <td>0</td>\n      <td>1</td>\n      <td>0</td>\n      <td>0</td>\n      <td>0</td>\n    </tr>\n    <tr>\n      <th>2</th>\n      <td>0</td>\n      <td>1</td>\n      <td>-0.856</td>\n      <td>-0.216</td>\n      <td>1</td>\n      <td>0</td>\n      <td>-0.494</td>\n      <td>0</td>\n      <td>0.560</td>\n      <td>-0.037</td>\n      <td>...</td>\n      <td>1</td>\n      <td>0</td>\n      <td>0</td>\n      <td>0</td>\n      <td>0</td>\n      <td>0</td>\n      <td>1</td>\n      <td>0</td>\n      <td>0</td>\n      <td>0</td>\n    </tr>\n    <tr>\n      <th>3</th>\n      <td>1</td>\n      <td>1</td>\n      <td>-0.647</td>\n      <td>0.457</td>\n      <td>1</td>\n      <td>1</td>\n      <td>0.535</td>\n      <td>1</td>\n      <td>-0.486</td>\n      <td>-0.195</td>\n      <td>...</td>\n      <td>0</td>\n      <td>0</td>\n      <td>0</td>\n      <td>0</td>\n      <td>1</td>\n      <td>0</td>\n      <td>1</td>\n      <td>0</td>\n      <td>0</td>\n      <td>0</td>\n    </tr>\n    <tr>\n      <th>4</th>\n      <td>1</td>\n      <td>0</td>\n      <td>0.174</td>\n      <td>-0.154</td>\n      <td>1</td>\n      <td>0</td>\n      <td>-0.494</td>\n      <td>0</td>\n      <td>-0.369</td>\n      <td>-0.195</td>\n      <td>...</td>\n      <td>0</td>\n      <td>0</td>\n      <td>0</td>\n      <td>0</td>\n      <td>1</td>\n      <td>0</td>\n      <td>0</td>\n      <td>0</td>\n      <td>1</td>\n      <td>0</td>\n    </tr>\n  </tbody>\n</table>\n<p>5 rows × 43 columns</p>\n</div>",
            "text/plain": "   A1  A2     A3     A8  A9  A10    A11  A12    A14    A15   ...    A7_h  \\\n0   1   1 -0.957 -0.291   1    1 -0.288    0  0.107 -0.195   ...       0   \n1   0   2 -0.060  0.244   1    1  0.741    0 -0.817 -0.088   ...       1   \n2   0   1 -0.856 -0.216   1    0 -0.494    0  0.560 -0.037   ...       1   \n3   1   1 -0.647  0.457   1    1  0.535    1 -0.486 -0.195   ...       0   \n4   1   0  0.174 -0.154   1    0 -0.494    0 -0.369 -0.195   ...       0   \n\n   A7_j  A7_n  A7_o  A7_v  A7_z  A13_g  A13_p  A13_s  target  \n0     0     0     0     1     0      1      0      0       0  \n1     0     0     0     0     0      1      0      0       0  \n2     0     0     0     0     0      1      0      0       0  \n3     0     0     0     1     0      1      0      0       0  \n4     0     0     0     1     0      0      0      1       0  \n\n[5 rows x 43 columns]"
          },
          "metadata": {}
        }
      ]
    },
    {
      "metadata": {
        "trusted": true
      },
      "cell_type": "code",
      "source": "df_clean.to_csv('df_clean.csv',index=False)",
      "execution_count": 40,
      "outputs": []
    },
    {
      "metadata": {
        "trusted": true
      },
      "cell_type": "markdown",
      "source": "***\n# Question 2\n\nBefore attempting the questions We will be importing the supplied Corruption Perception Index(CPI) .csv file. Most of these questions attempt to find the CPI of Russia. So I will remove Russia from the original dataframe. Also since we are looking for the CPI for Russia we need to make sure that the placeholder `?` is a `Null` value."
    },
    {
      "metadata": {
        "trusted": true
      },
      "cell_type": "code",
      "source": "cpi_index = pd.read_csv('Assignment1_Q2.csv', na_values=[\"?\"])",
      "execution_count": 41,
      "outputs": []
    },
    {
      "metadata": {
        "trusted": true
      },
      "cell_type": "code",
      "source": "cpi_index.tail(1)",
      "execution_count": 42,
      "outputs": [
        {
          "output_type": "execute_result",
          "execution_count": 42,
          "data": {
            "text/html": "<div>\n<style scoped>\n    .dataframe tbody tr th:only-of-type {\n        vertical-align: middle;\n    }\n\n    .dataframe tbody tr th {\n        vertical-align: top;\n    }\n\n    .dataframe thead th {\n        text-align: right;\n    }\n</style>\n<table border=\"1\" class=\"dataframe\">\n  <thead>\n    <tr style=\"text-align: right;\">\n      <th></th>\n      <th>COUNTRY_ID</th>\n      <th>LIFE_EXP</th>\n      <th>TOP10_INCOME</th>\n      <th>INFANT_MORT</th>\n      <th>MIL_SPEND</th>\n      <th>SCHOOL_YEARS</th>\n      <th>CPI</th>\n    </tr>\n  </thead>\n  <tbody>\n    <tr>\n      <th>16</th>\n      <td>Russia</td>\n      <td>67.62</td>\n      <td>31.68</td>\n      <td>10.0</td>\n      <td>3.87</td>\n      <td>12.9</td>\n      <td>NaN</td>\n    </tr>\n  </tbody>\n</table>\n</div>",
            "text/plain": "   COUNTRY_ID  LIFE_EXP  TOP10_INCOME  INFANT_MORT  MIL_SPEND  SCHOOL_YEARS  \\\n16     Russia     67.62         31.68         10.0       3.87          12.9   \n\n    CPI  \n16  NaN  "
          },
          "metadata": {}
        }
      ]
    },
    {
      "metadata": {
        "trusted": true
      },
      "cell_type": "code",
      "source": "cpi_index_remove = cpi_index[cpi_index.COUNTRY_ID !='Russia']",
      "execution_count": 43,
      "outputs": []
    },
    {
      "metadata": {
        "trusted": true,
        "scrolled": true
      },
      "cell_type": "code",
      "source": "cpi_index_remove.tail(1)",
      "execution_count": 44,
      "outputs": [
        {
          "output_type": "execute_result",
          "execution_count": 44,
          "data": {
            "text/html": "<div>\n<style scoped>\n    .dataframe tbody tr th:only-of-type {\n        vertical-align: middle;\n    }\n\n    .dataframe tbody tr th {\n        vertical-align: top;\n    }\n\n    .dataframe thead th {\n        text-align: right;\n    }\n</style>\n<table border=\"1\" class=\"dataframe\">\n  <thead>\n    <tr style=\"text-align: right;\">\n      <th></th>\n      <th>COUNTRY_ID</th>\n      <th>LIFE_EXP</th>\n      <th>TOP10_INCOME</th>\n      <th>INFANT_MORT</th>\n      <th>MIL_SPEND</th>\n      <th>SCHOOL_YEARS</th>\n      <th>CPI</th>\n    </tr>\n  </thead>\n  <tbody>\n    <tr>\n      <th>15</th>\n      <td>New Zealand</td>\n      <td>80.67</td>\n      <td>27.81</td>\n      <td>4.9</td>\n      <td>1.13</td>\n      <td>12.3</td>\n      <td>9.4627</td>\n    </tr>\n  </tbody>\n</table>\n</div>",
            "text/plain": "     COUNTRY_ID  LIFE_EXP  TOP10_INCOME  INFANT_MORT  MIL_SPEND  SCHOOL_YEARS  \\\n15  New Zealand     80.67         27.81          4.9       1.13          12.3   \n\n       CPI  \n15  9.4627  "
          },
          "metadata": {}
        }
      ]
    },
    {
      "metadata": {
        "trusted": true
      },
      "cell_type": "code",
      "source": "cpi_index_rus = cpi_index[cpi_index.COUNTRY_ID =='Russia']",
      "execution_count": 45,
      "outputs": []
    },
    {
      "metadata": {
        "trusted": true
      },
      "cell_type": "code",
      "source": "cpi_index_rus.head()",
      "execution_count": 46,
      "outputs": [
        {
          "output_type": "execute_result",
          "execution_count": 46,
          "data": {
            "text/html": "<div>\n<style scoped>\n    .dataframe tbody tr th:only-of-type {\n        vertical-align: middle;\n    }\n\n    .dataframe tbody tr th {\n        vertical-align: top;\n    }\n\n    .dataframe thead th {\n        text-align: right;\n    }\n</style>\n<table border=\"1\" class=\"dataframe\">\n  <thead>\n    <tr style=\"text-align: right;\">\n      <th></th>\n      <th>COUNTRY_ID</th>\n      <th>LIFE_EXP</th>\n      <th>TOP10_INCOME</th>\n      <th>INFANT_MORT</th>\n      <th>MIL_SPEND</th>\n      <th>SCHOOL_YEARS</th>\n      <th>CPI</th>\n    </tr>\n  </thead>\n  <tbody>\n    <tr>\n      <th>16</th>\n      <td>Russia</td>\n      <td>67.62</td>\n      <td>31.68</td>\n      <td>10.0</td>\n      <td>3.87</td>\n      <td>12.9</td>\n      <td>NaN</td>\n    </tr>\n  </tbody>\n</table>\n</div>",
            "text/plain": "   COUNTRY_ID  LIFE_EXP  TOP10_INCOME  INFANT_MORT  MIL_SPEND  SCHOOL_YEARS  \\\n16     Russia     67.62         31.68         10.0       3.87          12.9   \n\n    CPI  \n16  NaN  "
          },
          "metadata": {}
        }
      ]
    },
    {
      "metadata": {},
      "cell_type": "markdown",
      "source": "### Part a \n\n`What value would a 3-nearest neighbor prediction model using\nManhattan distance return for the CPI of Russia?`\n\nThe formula for Manhattan distance is shown below:\n\n$$ Manhattan(a,b) = \\sum_{i=1}^m abs(a[i] - b[i])$$\n\nIn order get the Manhattan distance for all rows in the dataframe we will balance all the Russian values into one array and then the values from the main dataframe into another.\n"
    },
    {
      "metadata": {
        "trusted": true
      },
      "cell_type": "code",
      "source": "rus_array = np.array(cpi_index_rus.loc[:,'LIFE_EXP':'SCHOOL_YEARS'])",
      "execution_count": 47,
      "outputs": []
    },
    {
      "metadata": {
        "trusted": true
      },
      "cell_type": "code",
      "source": "test_array = np.array(cpi_index_remove.loc[:,'LIFE_EXP':'SCHOOL_YEARS'])",
      "execution_count": 48,
      "outputs": []
    },
    {
      "metadata": {},
      "cell_type": "markdown",
      "source": "Here is a quick breakdown of each part of the formaula the following bits of code are working on:\n\n$$ abs(a[i] - b[i])$$\n"
    },
    {
      "metadata": {
        "trusted": true
      },
      "cell_type": "code",
      "source": "sub_array = abs(rus_array - test_array)",
      "execution_count": 49,
      "outputs": []
    },
    {
      "metadata": {},
      "cell_type": "markdown",
      "source": "$$ \\sum_{i=1}^m $$"
    },
    {
      "metadata": {
        "trusted": true
      },
      "cell_type": "code",
      "source": "sum_array = np.sum(sub_array, axis=1)",
      "execution_count": 50,
      "outputs": []
    },
    {
      "metadata": {},
      "cell_type": "markdown",
      "source": "This should now be all that is needed to have the Manhattan distance for each country in relation to Russia.\n\nNow we will create a new dataframe to with the `COUNTRY_ID`, `CPI` and the new `MANHATTAN` distance respective to each country."
    },
    {
      "metadata": {
        "trusted": true
      },
      "cell_type": "code",
      "source": "cpi_manhattan = cpi_index_remove[['COUNTRY_ID','CPI']].copy()\ncpi_manhattan[\"MANHATTAN\"] = sum_array.tolist()\ncpi_manhattan.head()",
      "execution_count": 51,
      "outputs": [
        {
          "output_type": "execute_result",
          "execution_count": 51,
          "data": {
            "text/html": "<div>\n<style scoped>\n    .dataframe tbody tr th:only-of-type {\n        vertical-align: middle;\n    }\n\n    .dataframe tbody tr th {\n        vertical-align: top;\n    }\n\n    .dataframe thead th {\n        text-align: right;\n    }\n</style>\n<table border=\"1\" class=\"dataframe\">\n  <thead>\n    <tr style=\"text-align: right;\">\n      <th></th>\n      <th>COUNTRY_ID</th>\n      <th>CPI</th>\n      <th>MANHATTAN</th>\n    </tr>\n  </thead>\n  <tbody>\n    <tr>\n      <th>0</th>\n      <td>Afghanistan</td>\n      <td>1.5171</td>\n      <td>93.85</td>\n    </tr>\n    <tr>\n      <th>1</th>\n      <td>Haiti</td>\n      <td>1.7999</td>\n      <td>114.99</td>\n    </tr>\n    <tr>\n      <th>2</th>\n      <td>Nigeria</td>\n      <td>2.4493</td>\n      <td>107.07</td>\n    </tr>\n    <tr>\n      <th>3</th>\n      <td>Egypt</td>\n      <td>2.8622</td>\n      <td>27.17</td>\n    </tr>\n    <tr>\n      <th>4</th>\n      <td>Argentina</td>\n      <td>2.9961</td>\n      <td>17.98</td>\n    </tr>\n  </tbody>\n</table>\n</div>",
            "text/plain": "    COUNTRY_ID     CPI  MANHATTAN\n0  Afghanistan  1.5171      93.85\n1        Haiti  1.7999     114.99\n2      Nigeria  2.4493     107.07\n3        Egypt  2.8622      27.17\n4    Argentina  2.9961      17.98"
          },
          "metadata": {}
        }
      ]
    },
    {
      "metadata": {},
      "cell_type": "markdown",
      "source": "we will now sort by top 3 countries by Manhattan distance."
    },
    {
      "metadata": {
        "trusted": true
      },
      "cell_type": "code",
      "source": "cpi_manhattan.sort_values(by=['MANHATTAN'])",
      "execution_count": 52,
      "outputs": [
        {
          "output_type": "execute_result",
          "execution_count": 52,
          "data": {
            "text/html": "<div>\n<style scoped>\n    .dataframe tbody tr th:only-of-type {\n        vertical-align: middle;\n    }\n\n    .dataframe tbody tr th {\n        vertical-align: top;\n    }\n\n    .dataframe thead th {\n        text-align: right;\n    }\n</style>\n<table border=\"1\" class=\"dataframe\">\n  <thead>\n    <tr style=\"text-align: right;\">\n      <th></th>\n      <th>COUNTRY_ID</th>\n      <th>CPI</th>\n      <th>MANHATTAN</th>\n    </tr>\n  </thead>\n  <tbody>\n    <tr>\n      <th>4</th>\n      <td>Argentina</td>\n      <td>2.9961</td>\n      <td>17.98</td>\n    </tr>\n    <tr>\n      <th>8</th>\n      <td>U.S.A</td>\n      <td>7.1357</td>\n      <td>18.07</td>\n    </tr>\n    <tr>\n      <th>5</th>\n      <td>China</td>\n      <td>3.6356</td>\n      <td>21.07</td>\n    </tr>\n    <tr>\n      <th>10</th>\n      <td>U.K.</td>\n      <td>7.7751</td>\n      <td>22.64</td>\n    </tr>\n    <tr>\n      <th>15</th>\n      <td>New Zealand</td>\n      <td>9.4627</td>\n      <td>25.36</td>\n    </tr>\n    <tr>\n      <th>7</th>\n      <td>Israel</td>\n      <td>5.8069</td>\n      <td>26.26</td>\n    </tr>\n    <tr>\n      <th>3</th>\n      <td>Egypt</td>\n      <td>2.8622</td>\n      <td>27.17</td>\n    </tr>\n    <tr>\n      <th>9</th>\n      <td>Ireland</td>\n      <td>7.5360</td>\n      <td>28.15</td>\n    </tr>\n    <tr>\n      <th>12</th>\n      <td>Canada</td>\n      <td>8.6725</td>\n      <td>29.11</td>\n    </tr>\n    <tr>\n      <th>6</th>\n      <td>Brazil</td>\n      <td>3.7741</td>\n      <td>29.39</td>\n    </tr>\n    <tr>\n      <th>13</th>\n      <td>Australia</td>\n      <td>8.8442</td>\n      <td>29.96</td>\n    </tr>\n    <tr>\n      <th>11</th>\n      <td>Germany</td>\n      <td>8.0461</td>\n      <td>32.19</td>\n    </tr>\n    <tr>\n      <th>14</th>\n      <td>Sweden</td>\n      <td>9.2985</td>\n      <td>33.61</td>\n    </tr>\n    <tr>\n      <th>0</th>\n      <td>Afghanistan</td>\n      <td>1.5171</td>\n      <td>93.85</td>\n    </tr>\n    <tr>\n      <th>2</th>\n      <td>Nigeria</td>\n      <td>2.4493</td>\n      <td>107.07</td>\n    </tr>\n    <tr>\n      <th>1</th>\n      <td>Haiti</td>\n      <td>1.7999</td>\n      <td>114.99</td>\n    </tr>\n  </tbody>\n</table>\n</div>",
            "text/plain": "     COUNTRY_ID     CPI  MANHATTAN\n4     Argentina  2.9961      17.98\n8         U.S.A  7.1357      18.07\n5         China  3.6356      21.07\n10         U.K.  7.7751      22.64\n15  New Zealand  9.4627      25.36\n7        Israel  5.8069      26.26\n3         Egypt  2.8622      27.17\n9       Ireland  7.5360      28.15\n12       Canada  8.6725      29.11\n6        Brazil  3.7741      29.39\n13    Australia  8.8442      29.96\n11      Germany  8.0461      32.19\n14       Sweden  9.2985      33.61\n0   Afghanistan  1.5171      93.85\n2       Nigeria  2.4493     107.07\n1         Haiti  1.7999     114.99"
          },
          "metadata": {}
        }
      ]
    },
    {
      "metadata": {
        "trusted": true
      },
      "cell_type": "code",
      "source": "cpi_closest_3 = cpi_manhattan.sort_values(by=['MANHATTAN'])[:3]",
      "execution_count": 53,
      "outputs": []
    },
    {
      "metadata": {
        "trusted": true
      },
      "cell_type": "markdown",
      "source": "As we can see from above the 3 closest countries to Russia by Manhattan distance are `Argentina`, `U.S.A` and `China`.\n\nTo predict Russia's CPI we need to sum the top 3 countries and divide by 3."
    },
    {
      "metadata": {
        "trusted": true
      },
      "cell_type": "code",
      "source": "rus_cpi = cpi_closest_3['CPI'].sum(axis=0)/3",
      "execution_count": 54,
      "outputs": []
    },
    {
      "metadata": {},
      "cell_type": "markdown",
      "source": "### The answer to part a:"
    },
    {
      "metadata": {
        "trusted": true
      },
      "cell_type": "code",
      "source": "rus_cpi",
      "execution_count": 55,
      "outputs": [
        {
          "output_type": "execute_result",
          "execution_count": 55,
          "data": {
            "text/plain": "4.589133333333334"
          },
          "metadata": {}
        }
      ]
    },
    {
      "metadata": {
        "trusted": true
      },
      "cell_type": "markdown",
      "source": "### Part b\n\n`What value would a weighted k-NN prediction model return for the CPI of Russia? Use k = 16 (i.e., the full dataset) and a weighting scheme of the reciprocal of the squared Manhattan distance between the neighbor and the query.`\n\nThe weighted for a weighted k nearest neighbor model uses the  following formula:\n\n$$M_k (q) = argmax l \\epsilon levels(t) \\sum_{i=1}^k \\frac{1}{dist(q,d)^2} x \\delta (t_i,l)$$\n\nSo to get the weighted part we use:\n\n$$ \\frac{1}{dist(q,d)^2} $$"
    },
    {
      "metadata": {
        "trusted": true
      },
      "cell_type": "code",
      "source": "Manhattan_array = np.array(cpi_manhattan['MANHATTAN'])",
      "execution_count": 56,
      "outputs": []
    },
    {
      "metadata": {
        "trusted": true
      },
      "cell_type": "code",
      "source": "weighted_array = 1/(Manhattan_array)**2",
      "execution_count": 57,
      "outputs": []
    },
    {
      "metadata": {
        "trusted": true
      },
      "cell_type": "code",
      "source": "weighted_array",
      "execution_count": 58,
      "outputs": [
        {
          "output_type": "execute_result",
          "execution_count": 58,
          "data": {
            "text/plain": "array([1.13535440e-04, 7.56275188e-05, 8.72297032e-05, 1.35463011e-03,\n       3.09328991e-03, 2.25253179e-03, 1.15771278e-03, 1.45014208e-03,\n       3.06255358e-03, 1.26195306e-03, 1.95095456e-03, 9.65068292e-04,\n       1.18009125e-03, 1.11408001e-03, 8.85243966e-04, 1.55489656e-03])"
          },
          "metadata": {}
        }
      ]
    },
    {
      "metadata": {},
      "cell_type": "markdown",
      "source": "Now we need t times the weighted results by the taget value (CPI)"
    },
    {
      "metadata": {
        "trusted": true
      },
      "cell_type": "code",
      "source": "cpi_array = np.array(cpi_manhattan['CPI'])",
      "execution_count": 59,
      "outputs": []
    },
    {
      "metadata": {
        "trusted": true
      },
      "cell_type": "code",
      "source": "weight_by_cpi = weighted_array * cpi_array",
      "execution_count": 60,
      "outputs": []
    },
    {
      "metadata": {
        "trusted": true
      },
      "cell_type": "code",
      "source": "weight_by_cpi",
      "execution_count": 61,
      "outputs": [
        {
          "output_type": "execute_result",
          "execution_count": 61,
          "data": {
            "text/plain": "array([0.00017224, 0.00013612, 0.00021365, 0.00387722, 0.00926781,\n       0.0081893 , 0.00436932, 0.00842083, 0.02185346, 0.00951008,\n       0.01516887, 0.00776504, 0.01023434, 0.00985315, 0.00823144,\n       0.01471352])"
          },
          "metadata": {}
        }
      ]
    },
    {
      "metadata": {
        "trusted": true
      },
      "cell_type": "code",
      "source": "cpi_manhattan[\"WEIGHT\"] = weighted_array.tolist()\ncpi_manhattan[\"WEIGHTxCPI\"] = weight_by_cpi.tolist()\ncpi_manhattan",
      "execution_count": 62,
      "outputs": [
        {
          "output_type": "execute_result",
          "execution_count": 62,
          "data": {
            "text/html": "<div>\n<style scoped>\n    .dataframe tbody tr th:only-of-type {\n        vertical-align: middle;\n    }\n\n    .dataframe tbody tr th {\n        vertical-align: top;\n    }\n\n    .dataframe thead th {\n        text-align: right;\n    }\n</style>\n<table border=\"1\" class=\"dataframe\">\n  <thead>\n    <tr style=\"text-align: right;\">\n      <th></th>\n      <th>COUNTRY_ID</th>\n      <th>CPI</th>\n      <th>MANHATTAN</th>\n      <th>WEIGHT</th>\n      <th>WEIGHTxCPI</th>\n    </tr>\n  </thead>\n  <tbody>\n    <tr>\n      <th>0</th>\n      <td>Afghanistan</td>\n      <td>1.5171</td>\n      <td>93.85</td>\n      <td>0.000114</td>\n      <td>0.000172</td>\n    </tr>\n    <tr>\n      <th>1</th>\n      <td>Haiti</td>\n      <td>1.7999</td>\n      <td>114.99</td>\n      <td>0.000076</td>\n      <td>0.000136</td>\n    </tr>\n    <tr>\n      <th>2</th>\n      <td>Nigeria</td>\n      <td>2.4493</td>\n      <td>107.07</td>\n      <td>0.000087</td>\n      <td>0.000214</td>\n    </tr>\n    <tr>\n      <th>3</th>\n      <td>Egypt</td>\n      <td>2.8622</td>\n      <td>27.17</td>\n      <td>0.001355</td>\n      <td>0.003877</td>\n    </tr>\n    <tr>\n      <th>4</th>\n      <td>Argentina</td>\n      <td>2.9961</td>\n      <td>17.98</td>\n      <td>0.003093</td>\n      <td>0.009268</td>\n    </tr>\n    <tr>\n      <th>5</th>\n      <td>China</td>\n      <td>3.6356</td>\n      <td>21.07</td>\n      <td>0.002253</td>\n      <td>0.008189</td>\n    </tr>\n    <tr>\n      <th>6</th>\n      <td>Brazil</td>\n      <td>3.7741</td>\n      <td>29.39</td>\n      <td>0.001158</td>\n      <td>0.004369</td>\n    </tr>\n    <tr>\n      <th>7</th>\n      <td>Israel</td>\n      <td>5.8069</td>\n      <td>26.26</td>\n      <td>0.001450</td>\n      <td>0.008421</td>\n    </tr>\n    <tr>\n      <th>8</th>\n      <td>U.S.A</td>\n      <td>7.1357</td>\n      <td>18.07</td>\n      <td>0.003063</td>\n      <td>0.021853</td>\n    </tr>\n    <tr>\n      <th>9</th>\n      <td>Ireland</td>\n      <td>7.5360</td>\n      <td>28.15</td>\n      <td>0.001262</td>\n      <td>0.009510</td>\n    </tr>\n    <tr>\n      <th>10</th>\n      <td>U.K.</td>\n      <td>7.7751</td>\n      <td>22.64</td>\n      <td>0.001951</td>\n      <td>0.015169</td>\n    </tr>\n    <tr>\n      <th>11</th>\n      <td>Germany</td>\n      <td>8.0461</td>\n      <td>32.19</td>\n      <td>0.000965</td>\n      <td>0.007765</td>\n    </tr>\n    <tr>\n      <th>12</th>\n      <td>Canada</td>\n      <td>8.6725</td>\n      <td>29.11</td>\n      <td>0.001180</td>\n      <td>0.010234</td>\n    </tr>\n    <tr>\n      <th>13</th>\n      <td>Australia</td>\n      <td>8.8442</td>\n      <td>29.96</td>\n      <td>0.001114</td>\n      <td>0.009853</td>\n    </tr>\n    <tr>\n      <th>14</th>\n      <td>Sweden</td>\n      <td>9.2985</td>\n      <td>33.61</td>\n      <td>0.000885</td>\n      <td>0.008231</td>\n    </tr>\n    <tr>\n      <th>15</th>\n      <td>New Zealand</td>\n      <td>9.4627</td>\n      <td>25.36</td>\n      <td>0.001555</td>\n      <td>0.014714</td>\n    </tr>\n  </tbody>\n</table>\n</div>",
            "text/plain": "     COUNTRY_ID     CPI  MANHATTAN    WEIGHT  WEIGHTxCPI\n0   Afghanistan  1.5171      93.85  0.000114    0.000172\n1         Haiti  1.7999     114.99  0.000076    0.000136\n2       Nigeria  2.4493     107.07  0.000087    0.000214\n3         Egypt  2.8622      27.17  0.001355    0.003877\n4     Argentina  2.9961      17.98  0.003093    0.009268\n5         China  3.6356      21.07  0.002253    0.008189\n6        Brazil  3.7741      29.39  0.001158    0.004369\n7        Israel  5.8069      26.26  0.001450    0.008421\n8         U.S.A  7.1357      18.07  0.003063    0.021853\n9       Ireland  7.5360      28.15  0.001262    0.009510\n10         U.K.  7.7751      22.64  0.001951    0.015169\n11      Germany  8.0461      32.19  0.000965    0.007765\n12       Canada  8.6725      29.11  0.001180    0.010234\n13    Australia  8.8442      29.96  0.001114    0.009853\n14       Sweden  9.2985      33.61  0.000885    0.008231\n15  New Zealand  9.4627      25.36  0.001555    0.014714"
          },
          "metadata": {}
        }
      ]
    },
    {
      "metadata": {},
      "cell_type": "markdown",
      "source": "Now to get our predicted CPI value for Russia, we sum up both the `WEIGHT` feature and the `WEIGHTxCPI` feature. "
    },
    {
      "metadata": {
        "trusted": true
      },
      "cell_type": "code",
      "source": "np.sum(weight_by_cpi) ",
      "execution_count": 63,
      "outputs": [
        {
          "output_type": "execute_result",
          "execution_count": 63,
          "data": {
            "text/plain": "0.13197639799315705"
          },
          "metadata": {}
        }
      ]
    },
    {
      "metadata": {
        "trusted": true
      },
      "cell_type": "code",
      "source": "np.sum(weighted_array)",
      "execution_count": 64,
      "outputs": [
        {
          "output_type": "execute_result",
          "execution_count": 64,
          "data": {
            "text/plain": "0.021559540605051625"
          },
          "metadata": {}
        }
      ]
    },
    {
      "metadata": {},
      "cell_type": "markdown",
      "source": "We then divide the sum of the `WEIGHTxCPI` feature by the sum of the `WEIGHT` feature to get our CPI prediction for Russia."
    },
    {
      "metadata": {
        "trusted": true
      },
      "cell_type": "code",
      "source": "weighted_rus_cpi = np.sum(weight_by_cpi)  / np.sum(weighted_array)\n",
      "execution_count": 65,
      "outputs": []
    },
    {
      "metadata": {},
      "cell_type": "markdown",
      "source": "### The answer to part b:"
    },
    {
      "metadata": {
        "trusted": true
      },
      "cell_type": "code",
      "source": "weighted_rus_cpi",
      "execution_count": 66,
      "outputs": [
        {
          "output_type": "execute_result",
          "execution_count": 66,
          "data": {
            "text/plain": "6.121484701869464"
          },
          "metadata": {}
        }
      ]
    },
    {
      "metadata": {
        "trusted": true
      },
      "cell_type": "markdown",
      "source": "### Part c\n\n`The descriptive features in this dataset are of different types. For example, some are percentages, others are measured in years, and others are measured in counts per 1,000. We should always consider normalizing our data, but it is particularly important to do this when the descriptive features are measured in different units. What value would a 3-nearest neighbor prediction model using Manhattan distance return for the CPI of Russia when the descriptive features have been normalized using range normalization?`\n\nIn order to normalize the data we would use the following formula:\n\n$$ \\acute{a}_i = \\frac {a_i - min(a)}{max(a)-min(a)} x (high - low) + low $$\n\nWe will go through the dataframe without Russia first and normalize it."
    },
    {
      "metadata": {
        "trusted": true
      },
      "cell_type": "code",
      "source": "nom_cpi_manhattan = cpi_index_remove[['COUNTRY_ID','CPI']].copy()\n\nlife_exp_array = np.array(cpi_index_remove['LIFE_EXP'])\nnom_life_exp_array = (life_exp_array - np.min(life_exp_array))/(np.max(life_exp_array) - np.min(life_exp_array))*(1-0)+0\nnom_cpi_manhattan[\"LIFE_EXP\"] = nom_life_exp_array.tolist()\n\ntop10_array = np.array(cpi_index_remove['TOP10_INCOME'])\nnom_top10_array = (top10_array - np.min(top10_array))/(np.max(top10_array) - np.min(top10_array))*(1-0)+0\nnom_cpi_manhattan[\"TOP10_INCOME\"] = nom_top10_array.tolist()\n\ninfant_array = np.array(cpi_index_remove['INFANT_MORT'])\nnom_infant_array = (infant_array - np.min(infant_array))/(np.max(infant_array) - np.min(infant_array))*(1-0)+0\nnom_cpi_manhattan[\"INFANT_MORT\"] = nom_infant_array.tolist()\n\nmil_array = np.array(cpi_index_remove['MIL_SPEND'])\nnom_mil_array = (mil_array - np.min(mil_array))/(np.max(mil_array) - np.min(mil_array))*(1-0)+0\nnom_cpi_manhattan[\"MIL_SPEND\"] = nom_mil_array.tolist()\n\nschool_array = np.array(cpi_index_remove['SCHOOL_YEARS'])\nnom_school_array = (school_array - np.min(school_array))/(np.max(school_array) - np.min(school_array))*(1-0)+0\nnom_cpi_manhattan[\"SCHOOL_YEARS\"] = nom_school_array.tolist()\n\nnom_cpi_manhattan.head(5)\n",
      "execution_count": 67,
      "outputs": [
        {
          "output_type": "execute_result",
          "execution_count": 67,
          "data": {
            "text/html": "<div>\n<style scoped>\n    .dataframe tbody tr th:only-of-type {\n        vertical-align: middle;\n    }\n\n    .dataframe tbody tr th {\n        vertical-align: top;\n    }\n\n    .dataframe thead th {\n        text-align: right;\n    }\n</style>\n<table border=\"1\" class=\"dataframe\">\n  <thead>\n    <tr style=\"text-align: right;\">\n      <th></th>\n      <th>COUNTRY_ID</th>\n      <th>CPI</th>\n      <th>LIFE_EXP</th>\n      <th>TOP10_INCOME</th>\n      <th>INFANT_MORT</th>\n      <th>MIL_SPEND</th>\n      <th>SCHOOL_YEARS</th>\n    </tr>\n  </thead>\n  <tbody>\n    <tr>\n      <th>0</th>\n      <td>Afghanistan</td>\n      <td>1.5171</td>\n      <td>0.393907</td>\n      <td>0.044531</td>\n      <td>0.896509</td>\n      <td>0.651198</td>\n      <td>0.000000</td>\n    </tr>\n    <tr>\n      <th>1</th>\n      <td>Haiti</td>\n      <td>1.7999</td>\n      <td>0.000000</td>\n      <td>1.000000</td>\n      <td>0.881546</td>\n      <td>0.000000</td>\n      <td>0.217391</td>\n    </tr>\n    <tr>\n      <th>2</th>\n      <td>Nigeria</td>\n      <td>2.4493</td>\n      <td>0.169857</td>\n      <td>0.631250</td>\n      <td>1.000000</td>\n      <td>0.146707</td>\n      <td>0.268116</td>\n    </tr>\n    <tr>\n      <th>3</th>\n      <td>Egypt</td>\n      <td>2.8622</td>\n      <td>0.686978</td>\n      <td>0.176172</td>\n      <td>0.214464</td>\n      <td>0.264970</td>\n      <td>0.355072</td>\n    </tr>\n    <tr>\n      <th>4</th>\n      <td>Argentina</td>\n      <td>2.9961</td>\n      <td>0.829604</td>\n      <td>0.399609</td>\n      <td>0.135910</td>\n      <td>0.100299</td>\n      <td>0.702899</td>\n    </tr>\n  </tbody>\n</table>\n</div>",
            "text/plain": "    COUNTRY_ID     CPI  LIFE_EXP  TOP10_INCOME  INFANT_MORT  MIL_SPEND  \\\n0  Afghanistan  1.5171  0.393907      0.044531     0.896509   0.651198   \n1        Haiti  1.7999  0.000000      1.000000     0.881546   0.000000   \n2      Nigeria  2.4493  0.169857      0.631250     1.000000   0.146707   \n3        Egypt  2.8622  0.686978      0.176172     0.214464   0.264970   \n4    Argentina  2.9961  0.829604      0.399609     0.135910   0.100299   \n\n   SCHOOL_YEARS  \n0      0.000000  \n1      0.217391  \n2      0.268116  \n3      0.355072  \n4      0.702899  "
          },
          "metadata": {}
        }
      ]
    },
    {
      "metadata": {},
      "cell_type": "markdown",
      "source": "Now we will do the same for the seperate Russian dataframe. "
    },
    {
      "metadata": {
        "trusted": true
      },
      "cell_type": "code",
      "source": "rus_nom_cpi_manhattan = cpi_index_rus[['COUNTRY_ID','CPI']].copy()\n\nrus_nom_life_exp_array = (cpi_index_rus['LIFE_EXP'] - np.min(life_exp_array))/(np.max(life_exp_array) - np.min(life_exp_array))*(1-0)+0\nrus_nom_cpi_manhattan[\"LIFE_EXP\"] = rus_nom_life_exp_array.tolist()\n\nrus_nom_top10_array = (cpi_index_rus['TOP10_INCOME'] - np.min(top10_array))/(np.max(top10_array) - np.min(top10_array))*(1-0)+0\nrus_nom_cpi_manhattan[\"TOP10_INCOME\"] = rus_nom_top10_array.tolist()\n\nrus_nom_infant_array = (cpi_index_rus['INFANT_MORT'] - np.min(infant_array))/(np.max(infant_array) - np.min(infant_array))*(1-0)+0\nrus_nom_cpi_manhattan[\"INFANT_MORT\"] = rus_nom_infant_array.tolist()\n\nrus_nom_mil_array = (cpi_index_rus['MIL_SPEND'] - np.min(mil_array))/(np.max(mil_array) - np.min(mil_array))*(1-0)+0\nrus_nom_cpi_manhattan[\"MIL_SPEND\"] = rus_nom_mil_array.tolist()\n\nrus_nom_school_array = (cpi_index_rus['SCHOOL_YEARS'] - np.min(school_array))/(np.max(school_array) - np.min(school_array))*(1-0)+0\nrus_nom_cpi_manhattan[\"SCHOOL_YEARS\"] = rus_nom_school_array.tolist()\n\nrus_nom_cpi_manhattan.head()",
      "execution_count": 68,
      "outputs": [
        {
          "output_type": "execute_result",
          "execution_count": 68,
          "data": {
            "text/html": "<div>\n<style scoped>\n    .dataframe tbody tr th:only-of-type {\n        vertical-align: middle;\n    }\n\n    .dataframe tbody tr th {\n        vertical-align: top;\n    }\n\n    .dataframe thead th {\n        text-align: right;\n    }\n</style>\n<table border=\"1\" class=\"dataframe\">\n  <thead>\n    <tr style=\"text-align: right;\">\n      <th></th>\n      <th>COUNTRY_ID</th>\n      <th>CPI</th>\n      <th>LIFE_EXP</th>\n      <th>TOP10_INCOME</th>\n      <th>INFANT_MORT</th>\n      <th>MIL_SPEND</th>\n      <th>SCHOOL_YEARS</th>\n    </tr>\n  </thead>\n  <tbody>\n    <tr>\n      <th>16</th>\n      <td>Russia</td>\n      <td>NaN</td>\n      <td>0.609868</td>\n      <td>0.375391</td>\n      <td>0.094763</td>\n      <td>0.565868</td>\n      <td>0.905797</td>\n    </tr>\n  </tbody>\n</table>\n</div>",
            "text/plain": "   COUNTRY_ID  CPI  LIFE_EXP  TOP10_INCOME  INFANT_MORT  MIL_SPEND  \\\n16     Russia  NaN  0.609868      0.375391     0.094763   0.565868   \n\n    SCHOOL_YEARS  \n16      0.905797  "
          },
          "metadata": {}
        }
      ]
    },
    {
      "metadata": {},
      "cell_type": "markdown",
      "source": "Here we will follow the same steps as we did in part a but now we are using normalised data."
    },
    {
      "metadata": {
        "trusted": true
      },
      "cell_type": "code",
      "source": "nom_rus_array = np.array(rus_nom_cpi_manhattan.loc[:,'LIFE_EXP':'SCHOOL_YEARS'])",
      "execution_count": 69,
      "outputs": []
    },
    {
      "metadata": {
        "trusted": true
      },
      "cell_type": "code",
      "source": "nom_array = np.array(nom_cpi_manhattan.loc[:,'LIFE_EXP':'SCHOOL_YEARS'])",
      "execution_count": 70,
      "outputs": []
    },
    {
      "metadata": {
        "trusted": true
      },
      "cell_type": "code",
      "source": "nom_sub_array = abs(nom_rus_array - nom_array)",
      "execution_count": 71,
      "outputs": []
    },
    {
      "metadata": {
        "trusted": true
      },
      "cell_type": "code",
      "source": "nom_sum_array = np.sum(nom_sub_array, axis=1)",
      "execution_count": 72,
      "outputs": []
    },
    {
      "metadata": {
        "trusted": true
      },
      "cell_type": "code",
      "source": "nom_sum_array",
      "execution_count": 73,
      "outputs": [
        {
          "output_type": "execute_result",
          "execution_count": 73,
          "data": {
            "text/plain": "array([2.33969263, 3.27553437, 2.6579499 , 1.24765207, 0.95356907,\n       1.06645103, 1.42216374, 1.02425031, 0.5964457 , 1.18367265,\n       0.72950718, 1.24514237, 1.15417553, 1.11011129, 1.23466233,\n       1.02026766])"
          },
          "metadata": {}
        }
      ]
    },
    {
      "metadata": {
        "trusted": true
      },
      "cell_type": "code",
      "source": "nom_cpi_manhattan = cpi_index_remove[['COUNTRY_ID','CPI']].copy()\nnom_cpi_manhattan[\"MANHATTAN\"] = nom_sum_array.tolist()\nnom_cpi_manhattan.head()\n",
      "execution_count": 74,
      "outputs": [
        {
          "output_type": "execute_result",
          "execution_count": 74,
          "data": {
            "text/html": "<div>\n<style scoped>\n    .dataframe tbody tr th:only-of-type {\n        vertical-align: middle;\n    }\n\n    .dataframe tbody tr th {\n        vertical-align: top;\n    }\n\n    .dataframe thead th {\n        text-align: right;\n    }\n</style>\n<table border=\"1\" class=\"dataframe\">\n  <thead>\n    <tr style=\"text-align: right;\">\n      <th></th>\n      <th>COUNTRY_ID</th>\n      <th>CPI</th>\n      <th>MANHATTAN</th>\n    </tr>\n  </thead>\n  <tbody>\n    <tr>\n      <th>0</th>\n      <td>Afghanistan</td>\n      <td>1.5171</td>\n      <td>2.339693</td>\n    </tr>\n    <tr>\n      <th>1</th>\n      <td>Haiti</td>\n      <td>1.7999</td>\n      <td>3.275534</td>\n    </tr>\n    <tr>\n      <th>2</th>\n      <td>Nigeria</td>\n      <td>2.4493</td>\n      <td>2.657950</td>\n    </tr>\n    <tr>\n      <th>3</th>\n      <td>Egypt</td>\n      <td>2.8622</td>\n      <td>1.247652</td>\n    </tr>\n    <tr>\n      <th>4</th>\n      <td>Argentina</td>\n      <td>2.9961</td>\n      <td>0.953569</td>\n    </tr>\n  </tbody>\n</table>\n</div>",
            "text/plain": "    COUNTRY_ID     CPI  MANHATTAN\n0  Afghanistan  1.5171   2.339693\n1        Haiti  1.7999   3.275534\n2      Nigeria  2.4493   2.657950\n3        Egypt  2.8622   1.247652\n4    Argentina  2.9961   0.953569"
          },
          "metadata": {}
        }
      ]
    },
    {
      "metadata": {},
      "cell_type": "markdown",
      "source": "Now we have our Manhattan distances based on the new normalised data. We will now sort the list to see which are the top three countries closest to Russia are now."
    },
    {
      "metadata": {
        "trusted": true
      },
      "cell_type": "code",
      "source": "nom_cpi_closest_3 = nom_cpi_manhattan.sort_values(by=['MANHATTAN'])[:3]",
      "execution_count": 75,
      "outputs": []
    },
    {
      "metadata": {
        "trusted": true
      },
      "cell_type": "code",
      "source": "nom_cpi_closest_3.head()",
      "execution_count": 76,
      "outputs": [
        {
          "output_type": "execute_result",
          "execution_count": 76,
          "data": {
            "text/html": "<div>\n<style scoped>\n    .dataframe tbody tr th:only-of-type {\n        vertical-align: middle;\n    }\n\n    .dataframe tbody tr th {\n        vertical-align: top;\n    }\n\n    .dataframe thead th {\n        text-align: right;\n    }\n</style>\n<table border=\"1\" class=\"dataframe\">\n  <thead>\n    <tr style=\"text-align: right;\">\n      <th></th>\n      <th>COUNTRY_ID</th>\n      <th>CPI</th>\n      <th>MANHATTAN</th>\n    </tr>\n  </thead>\n  <tbody>\n    <tr>\n      <th>8</th>\n      <td>U.S.A</td>\n      <td>7.1357</td>\n      <td>0.596446</td>\n    </tr>\n    <tr>\n      <th>10</th>\n      <td>U.K.</td>\n      <td>7.7751</td>\n      <td>0.729507</td>\n    </tr>\n    <tr>\n      <th>4</th>\n      <td>Argentina</td>\n      <td>2.9961</td>\n      <td>0.953569</td>\n    </tr>\n  </tbody>\n</table>\n</div>",
            "text/plain": "   COUNTRY_ID     CPI  MANHATTAN\n8       U.S.A  7.1357   0.596446\n10       U.K.  7.7751   0.729507\n4   Argentina  2.9961   0.953569"
          },
          "metadata": {}
        }
      ]
    },
    {
      "metadata": {},
      "cell_type": "markdown",
      "source": "This time the top 3 closest countries to Russia are ` U.S.A`, `U.K.` and `Argnetina`. In part a the top 3 countries `Argentina`, `U.S.A` and `China`.\n\nSo we will now use the new top three countries to predict Russia CPI using the same method from part a: "
    },
    {
      "metadata": {
        "trusted": true
      },
      "cell_type": "code",
      "source": "nom_rus_cpi = nom_cpi_closest_3['CPI'].sum(axis=0)/3",
      "execution_count": 77,
      "outputs": []
    },
    {
      "metadata": {},
      "cell_type": "markdown",
      "source": "### The answer to part c:"
    },
    {
      "metadata": {
        "trusted": true
      },
      "cell_type": "code",
      "source": "nom_rus_cpi",
      "execution_count": 78,
      "outputs": [
        {
          "output_type": "execute_result",
          "execution_count": 78,
          "data": {
            "text/plain": "5.968966666666667"
          },
          "metadata": {}
        }
      ]
    },
    {
      "metadata": {
        "trusted": true
      },
      "cell_type": "markdown",
      "source": "### Part d\n\n`What value would a weighted k-NN prediction model—with k = 16\n(i.e., the full dataset) and using a weighting scheme of the reciprocal of the squared Euclidean distance between the neighbor and the query—return for the CPI of Russia when it is applied to the range-normalized data?`\n\nHere we will be doing the same as part b but we will use the Normalized dataframe instead."
    },
    {
      "metadata": {
        "trusted": true
      },
      "cell_type": "code",
      "source": "nom_Manhattan_array = np.array(nom_cpi_manhattan['MANHATTAN'])\nnom_weighted_array = 1/(nom_Manhattan_array)**2\nnom_cpi_array = np.array(nom_cpi_manhattan['CPI'])\nnom_weight_by_cpi = nom_weighted_array * nom_cpi_array",
      "execution_count": 79,
      "outputs": []
    },
    {
      "metadata": {
        "trusted": true
      },
      "cell_type": "code",
      "source": "nom_cpi_manhattan[\"WEIGHT\"] = nom_weighted_array.tolist()\nnom_cpi_manhattan[\"WEIGHTxCPI\"] = nom_weight_by_cpi.tolist()\nnom_cpi_manhattan",
      "execution_count": 80,
      "outputs": [
        {
          "output_type": "execute_result",
          "execution_count": 80,
          "data": {
            "text/html": "<div>\n<style scoped>\n    .dataframe tbody tr th:only-of-type {\n        vertical-align: middle;\n    }\n\n    .dataframe tbody tr th {\n        vertical-align: top;\n    }\n\n    .dataframe thead th {\n        text-align: right;\n    }\n</style>\n<table border=\"1\" class=\"dataframe\">\n  <thead>\n    <tr style=\"text-align: right;\">\n      <th></th>\n      <th>COUNTRY_ID</th>\n      <th>CPI</th>\n      <th>MANHATTAN</th>\n      <th>WEIGHT</th>\n      <th>WEIGHTxCPI</th>\n    </tr>\n  </thead>\n  <tbody>\n    <tr>\n      <th>0</th>\n      <td>Afghanistan</td>\n      <td>1.5171</td>\n      <td>2.339693</td>\n      <td>0.182676</td>\n      <td>0.277138</td>\n    </tr>\n    <tr>\n      <th>1</th>\n      <td>Haiti</td>\n      <td>1.7999</td>\n      <td>3.275534</td>\n      <td>0.093204</td>\n      <td>0.167758</td>\n    </tr>\n    <tr>\n      <th>2</th>\n      <td>Nigeria</td>\n      <td>2.4493</td>\n      <td>2.657950</td>\n      <td>0.141549</td>\n      <td>0.346696</td>\n    </tr>\n    <tr>\n      <th>3</th>\n      <td>Egypt</td>\n      <td>2.8622</td>\n      <td>1.247652</td>\n      <td>0.642411</td>\n      <td>1.838709</td>\n    </tr>\n    <tr>\n      <th>4</th>\n      <td>Argentina</td>\n      <td>2.9961</td>\n      <td>0.953569</td>\n      <td>1.099754</td>\n      <td>3.294974</td>\n    </tr>\n    <tr>\n      <th>5</th>\n      <td>China</td>\n      <td>3.6356</td>\n      <td>1.066451</td>\n      <td>0.879262</td>\n      <td>3.196644</td>\n    </tr>\n    <tr>\n      <th>6</th>\n      <td>Brazil</td>\n      <td>3.7741</td>\n      <td>1.422164</td>\n      <td>0.494425</td>\n      <td>1.866011</td>\n    </tr>\n    <tr>\n      <th>7</th>\n      <td>Israel</td>\n      <td>5.8069</td>\n      <td>1.024250</td>\n      <td>0.953208</td>\n      <td>5.535185</td>\n    </tr>\n    <tr>\n      <th>8</th>\n      <td>U.S.A</td>\n      <td>7.1357</td>\n      <td>0.596446</td>\n      <td>2.810983</td>\n      <td>20.058329</td>\n    </tr>\n    <tr>\n      <th>9</th>\n      <td>Ireland</td>\n      <td>7.5360</td>\n      <td>1.183673</td>\n      <td>0.713735</td>\n      <td>5.378704</td>\n    </tr>\n    <tr>\n      <th>10</th>\n      <td>U.K.</td>\n      <td>7.7751</td>\n      <td>0.729507</td>\n      <td>1.879061</td>\n      <td>14.609887</td>\n    </tr>\n    <tr>\n      <th>11</th>\n      <td>Germany</td>\n      <td>8.0461</td>\n      <td>1.245142</td>\n      <td>0.645003</td>\n      <td>5.189762</td>\n    </tr>\n    <tr>\n      <th>12</th>\n      <td>Canada</td>\n      <td>8.6725</td>\n      <td>1.154176</td>\n      <td>0.750682</td>\n      <td>6.510294</td>\n    </tr>\n    <tr>\n      <th>13</th>\n      <td>Australia</td>\n      <td>8.8442</td>\n      <td>1.110111</td>\n      <td>0.811460</td>\n      <td>7.176712</td>\n    </tr>\n    <tr>\n      <th>14</th>\n      <td>Sweden</td>\n      <td>9.2985</td>\n      <td>1.234662</td>\n      <td>0.656000</td>\n      <td>6.099813</td>\n    </tr>\n    <tr>\n      <th>15</th>\n      <td>New Zealand</td>\n      <td>9.4627</td>\n      <td>1.020268</td>\n      <td>0.960665</td>\n      <td>9.090480</td>\n    </tr>\n  </tbody>\n</table>\n</div>",
            "text/plain": "     COUNTRY_ID     CPI  MANHATTAN    WEIGHT  WEIGHTxCPI\n0   Afghanistan  1.5171   2.339693  0.182676    0.277138\n1         Haiti  1.7999   3.275534  0.093204    0.167758\n2       Nigeria  2.4493   2.657950  0.141549    0.346696\n3         Egypt  2.8622   1.247652  0.642411    1.838709\n4     Argentina  2.9961   0.953569  1.099754    3.294974\n5         China  3.6356   1.066451  0.879262    3.196644\n6        Brazil  3.7741   1.422164  0.494425    1.866011\n7        Israel  5.8069   1.024250  0.953208    5.535185\n8         U.S.A  7.1357   0.596446  2.810983   20.058329\n9       Ireland  7.5360   1.183673  0.713735    5.378704\n10         U.K.  7.7751   0.729507  1.879061   14.609887\n11      Germany  8.0461   1.245142  0.645003    5.189762\n12       Canada  8.6725   1.154176  0.750682    6.510294\n13    Australia  8.8442   1.110111  0.811460    7.176712\n14       Sweden  9.2985   1.234662  0.656000    6.099813\n15  New Zealand  9.4627   1.020268  0.960665    9.090480"
          },
          "metadata": {}
        }
      ]
    },
    {
      "metadata": {
        "trusted": true
      },
      "cell_type": "code",
      "source": "np.sum(nom_weight_by_cpi) \nnp.sum(nom_weighted_array)\nnom_weighted_rus_cpi = np.sum(nom_weight_by_cpi)  / np.sum(nom_weighted_array)\n",
      "execution_count": 81,
      "outputs": []
    },
    {
      "metadata": {},
      "cell_type": "markdown",
      "source": "### The answer to part d"
    },
    {
      "metadata": {
        "trusted": true
      },
      "cell_type": "code",
      "source": "nom_weighted_rus_cpi",
      "execution_count": 82,
      "outputs": [
        {
          "output_type": "execute_result",
          "execution_count": 82,
          "data": {
            "text/plain": "6.609054843134553"
          },
          "metadata": {}
        }
      ]
    },
    {
      "metadata": {},
      "cell_type": "markdown",
      "source": "### part e\n\n`The actual 2011 CPI for Russia was 2.4488. Which of the predictions made was the most accurate? Why do you think this was?`\n\nPrediction that was the closest was part a. But according to the answers in the textbook when they used Euclidean distance it was part d. They explained that Normalization should help a data set like this since there is a wide range of data ranges that are very different from each other, therefore data normalization should be very important and help provide more accurate results. in part c we can see that it did provided a better prediction than part b but still not close to what the proper prediction should be. \n\nAlso, weighting should have an impact on this dataset due to it being a small dataset.\n\nOverall, I don't know why Manhattan distance is providing a worse prediction than using Euclidian distance.\n"
    }
  ],
  "metadata": {
    "kernelspec": {
      "name": "python36",
      "display_name": "Python 3.6",
      "language": "python"
    },
    "language_info": {
      "mimetype": "text/x-python",
      "nbconvert_exporter": "python",
      "name": "python",
      "pygments_lexer": "ipython3",
      "version": "3.6.6",
      "file_extension": ".py",
      "codemirror_mode": {
        "version": 3,
        "name": "ipython"
      }
    }
  },
  "nbformat": 4,
  "nbformat_minor": 2
}